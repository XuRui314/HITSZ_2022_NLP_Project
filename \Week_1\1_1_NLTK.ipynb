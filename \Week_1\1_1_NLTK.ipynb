{
  "cells": [
    {
      "cell_type": "markdown",
      "metadata": {
        "id": "view-in-github",
        "colab_type": "text"
      },
      "source": [
        "<a href=\"https://colab.research.google.com/github/XuRui314/HITSZ_2022_NLP_Project/blob/main/%5CWeek_1%5C1_1_NLTK.ipynb\" target=\"_parent\"><img src=\"https://colab.research.google.com/assets/colab-badge.svg\" alt=\"Open In Colab\"/></a>"
      ]
    },
    {
      "cell_type": "markdown",
      "metadata": {
        "id": "KzgeOTxwNFV9"
      },
      "source": [
        "## 1.1 NLTK\n",
        "\n",
        "NLTK的全称是Natural Language Toolkit，是一个非常经典的自然语言处理工具。\n",
        "\n",
        "官网：http://www.nltk.org/\n",
        "\n",
        "资源：https://github.com/nltk/nltk_data\n",
        "（遇到某些包下载失败时，google一下教程，将相应的包直接解压到自己的nltk数据文件夹中）\n",
        "\n",
        "NLTK可以处理自然语言处理中的绝大多数基础任务，并包含50多种常用语料库。\n",
        "\n",
        "- tokenize\n",
        "- 词性标注\n",
        "- 词形还原\n",
        "- 词干提取\n",
        "- 句法解析\n",
        "- 停用词\n",
        "- wordnet\n",
        "- ...\n"
      ]
    },
    {
      "cell_type": "markdown",
      "metadata": {
        "id": "L_F3n7pwNFWB"
      },
      "source": [
        "### Tokenize\n",
        "\n",
        "首先来看NLP处理中最基本的步骤，做分词。我们对下面这句话进行分词："
      ]
    },
    {
      "cell_type": "code",
      "execution_count": null,
      "metadata": {
        "id": "4sd8OCPCNFWC",
        "outputId": "611799b5-e3c5-4ff8-bd77-7a4044c96a77"
      },
      "outputs": [
        {
          "data": {
            "text/plain": [
              "\"Two plus two is four, minus one that's three — quick maths. Every day man's on the block. Smoke trees. See your girl in the park, that girl is an uckers. When the thing went quack quack quack, your men were ducking! Hold tight Asznee, my brother. He's got a pumpy. Hold tight my man, my guy. He's got a frisbee. I trap, trap, trap on the phone. Moving that cornflakes, rice crispies. Hold tight my girl Whitney.\""
            ]
          },
          "execution_count": 1,
          "metadata": {},
          "output_type": "execute_result"
        }
      ],
      "source": [
        "my_string = \"Two plus two is four, minus one that's three — quick maths. Every day man's on the block. Smoke trees. See your girl in the park, that girl is an uckers. When the thing went quack quack quack, your men were ducking! Hold tight Asznee, my brother. He's got a pumpy. Hold tight my man, my guy. He's got a frisbee. I trap, trap, trap on the phone. Moving that cornflakes, rice crispies. Hold tight my girl Whitney.\"\n",
        "my_string\n",
        "\n"
      ]
    },
    {
      "cell_type": "markdown",
      "metadata": {
        "id": "ydXKAN2sNFWD"
      },
      "source": [
        "**使用python最基础的分词方法来对下面这句话做分词**"
      ]
    },
    {
      "cell_type": "code",
      "execution_count": null,
      "metadata": {
        "id": "JYBLzv7ZNFWE",
        "outputId": "a9a7c118-f6f3-4653-a6f5-e69eaf05e043"
      },
      "outputs": [
        {
          "name": "stdout",
          "output_type": "stream",
          "text": [
            "['Two', 'plus', 'two', 'is', 'four,', 'minus', 'one', \"that's\", 'three', '—', 'quick', 'maths.', 'Every', 'day', \"man's\", 'on', 'the', 'block.', 'Smoke', 'trees.', 'See', 'your', 'girl', 'in', 'the', 'park,', 'that', 'girl', 'is', 'an', 'uckers.', 'When', 'the', 'thing', 'went', 'quack', 'quack', 'quack,', 'your', 'men', 'were', 'ducking!', 'Hold', 'tight', 'Asznee,', 'my', 'brother.', \"He's\", 'got', 'a', 'pumpy.', 'Hold', 'tight', 'my', 'man,', 'my', 'guy.', \"He's\", 'got', 'a', 'frisbee.', 'I', 'trap,', 'trap,', 'trap', 'on', 'the', 'phone.', 'Moving', 'that', 'cornflakes,', 'rice', 'crispies.', 'Hold', 'tight', 'my', 'girl', 'Whitney.']\n"
          ]
        }
      ],
      "source": [
        "tokenized_by_space = my_string.split()\n",
        "print(tokenized_by_space)"
      ]
    },
    {
      "cell_type": "markdown",
      "metadata": {
        "id": "U1GyBJZ7NFWE"
      },
      "source": [
        "**使用nltk的分词器来对下面这句话做分词**"
      ]
    },
    {
      "cell_type": "code",
      "execution_count": null,
      "metadata": {
        "id": "cf3hev6JNFWF",
        "outputId": "2f92febe-8e71-46af-8c0c-22db70735c65"
      },
      "outputs": [
        {
          "name": "stdout",
          "output_type": "stream",
          "text": [
            "['Two', 'plus', 'two', 'is', 'four', ',', 'minus', 'one', 'that', \"'s\", 'three', '—', 'quick', 'maths', '.', 'Every', 'day', 'man', \"'s\", 'on', 'the', 'block', '.', 'Smoke', 'trees', '.', 'See', 'your', 'girl', 'in', 'the', 'park', ',', 'that', 'girl', 'is', 'an', 'uckers', '.', 'When', 'the', 'thing', 'went', 'quack', 'quack', 'quack', ',', 'your', 'men', 'were', 'ducking', '!', 'Hold', 'tight', 'Asznee', ',', 'my', 'brother', '.', 'He', \"'s\", 'got', 'a', 'pumpy', '.', 'Hold', 'tight', 'my', 'man', ',', 'my', 'guy', '.', 'He', \"'s\", 'got', 'a', 'frisbee', '.', 'I', 'trap', ',', 'trap', ',', 'trap', 'on', 'the', 'phone', '.', 'Moving', 'that', 'cornflakes', ',', 'rice', 'crispies', '.', 'Hold', 'tight', 'my', 'girl', 'Whitney', '.']\n"
          ]
        }
      ],
      "source": [
        "from nltk.tokenize import word_tokenize\n",
        "\n",
        "tokenized_by_nltk = word_tokenize(my_string)\n",
        "\n",
        "print(tokenized_by_nltk)"
      ]
    },
    {
      "cell_type": "markdown",
      "metadata": {
        "id": "d2zMMmp3NFWF"
      },
      "source": [
        "**同理，可以用nltk实现分句**"
      ]
    },
    {
      "cell_type": "code",
      "execution_count": null,
      "metadata": {
        "id": "jAue-DV6NFWG",
        "outputId": "08615280-e205-4408-d86a-29f41d7d94c2"
      },
      "outputs": [
        {
          "data": {
            "text/plain": [
              "[\"Two plus two is four, minus one that's three — quick maths.\",\n",
              " \"Every day man's on the block.\",\n",
              " 'Smoke trees.',\n",
              " 'See your girl in the park, that girl is an uckers.',\n",
              " 'When the thing went quack quack quack, your men were ducking!',\n",
              " 'Hold tight Asznee, my brother.',\n",
              " \"He's got a pumpy.\",\n",
              " 'Hold tight my man, my guy.',\n",
              " \"He's got a frisbee.\",\n",
              " 'I trap, trap, trap on the phone.',\n",
              " 'Moving that cornflakes, rice crispies.',\n",
              " 'Hold tight my girl Whitney.']"
            ]
          },
          "execution_count": 35,
          "metadata": {},
          "output_type": "execute_result"
        }
      ],
      "source": [
        "from nltk.tokenize import sent_tokenize\n",
        "\n",
        "sentences = sent_tokenize(my_string)\n",
        "sentences"
      ]
    },
    {
      "cell_type": "markdown",
      "metadata": {
        "id": "t3rColELNFWG"
      },
      "source": [
        "**做一个词频统计**\n",
        "\n",
        "词频（term frequency，TF）指的是某一个给定的词语在语料库中出现的次数。\n",
        "词频信息是反映语料库特征一个的基本统计量。\n",
        "- 政府工作报告中的高频词\n",
        "- 使用词频推断红楼梦后40回是否为续写\n",
        "- 通过词频的变化来观察社会的变迁\n",
        "- 英语考试中重点词汇\n"
      ]
    },
    {
      "cell_type": "code",
      "execution_count": null,
      "metadata": {
        "id": "FcyDKwMzNFWH",
        "outputId": "ff57ec7c-71e6-41bb-dd8a-3412205db5e6"
      },
      "outputs": [
        {
          "data": {
            "image/png": "[encoded data removed]",
            "text/plain": [
              "<Figure size 432x288 with 1 Axes>"
            ]
          },
          "metadata": {
            "needs_background": "light"
          },
          "output_type": "display_data"
        },
        {
          "data": {
            "text/plain": [
              "<AxesSubplot:xlabel='Samples', ylabel='Counts'>"
            ]
          },
          "execution_count": 36,
          "metadata": {},
          "output_type": "execute_result"
        }
      ],
      "source": [
        "from nltk import FreqDist\n",
        "\n",
        "fdist = FreqDist(tokenized_by_nltk)\n",
        "fdist.plot(10)"
      ]
    },
    {
      "cell_type": "markdown",
      "metadata": {
        "id": "xCxLSbhhNFWH"
      },
      "source": [
        "### 词性标注, 词形还原，词干提取\n"
      ]
    },
    {
      "cell_type": "code",
      "execution_count": null,
      "metadata": {
        "id": "PbcSSqszNFWI",
        "outputId": "371a2165-0dd4-4494-d668-c1b302e52ce1"
      },
      "outputs": [
        {
          "data": {
            "text/plain": [
              "[('Two', 'CD'),\n",
              " ('plus', 'CC'),\n",
              " ('two', 'CD'),\n",
              " ('is', 'VBZ'),\n",
              " ('four', 'CD'),\n",
              " (',', ','),\n",
              " ('minus', 'CC'),\n",
              " ('one', 'CD'),\n",
              " ('that', 'WDT'),\n",
              " (\"'s\", 'VBZ'),\n",
              " ('three', 'CD'),\n",
              " ('—', 'NNP'),\n",
              " ('quick', 'JJ'),\n",
              " ('maths', 'NNS'),\n",
              " ('.', '.')]"
            ]
          },
          "execution_count": 38,
          "metadata": {},
          "output_type": "execute_result"
        }
      ],
      "source": [
        "from nltk import pos_tag\n",
        "\n",
        "# sentences是刚才使用句子级别分词器分好的句子\n",
        "first_sentence = sentences[0]\n",
        "# 使用词级别分词器进行分词\n",
        "first_sentence_tokenized = word_tokenize(first_sentence)\n",
        "# 进行词性标注\n",
        "pos_result = pos_tag(first_sentence_tokenized)\n",
        "\n",
        "pos_result"
      ]
    },
    {
      "cell_type": "code",
      "execution_count": null,
      "metadata": {
        "id": "U1Ga_oc1NFWI",
        "outputId": "10f9c4af-98f5-4851-e328-a969ec1b70f7"
      },
      "outputs": [
        {
          "name": "stdout",
          "output_type": "stream",
          "text": [
            "JJ: adjective or numeral, ordinal\n",
            "    third ill-mannered pre-war regrettable oiled calamitous first separable\n",
            "    ectoplasmic battery-powered participatory fourth still-to-be-named\n",
            "    multilingual multi-disciplinary ...\n"
          ]
        }
      ],
      "source": [
        "import nltk\n",
        "nltk.help.upenn_tagset('JJ')"
      ]
    },
    {
      "cell_type": "code",
      "execution_count": null,
      "metadata": {
        "id": "e5HzHuICNFWJ",
        "outputId": "4db85f37-8f5f-4c53-b3b3-e95619d7747a"
      },
      "outputs": [
        {
          "name": "stdout",
          "output_type": "stream",
          "text": [
            "test\n",
            "test\n",
            "test\n",
            "test\n"
          ]
        }
      ],
      "source": [
        "# 词干提取 stemming\n",
        "\n",
        "from nltk.stem import PorterStemmer, LancasterStemmer\n",
        "from nltk.stem.snowball import SnowballStemmer\n",
        "\n",
        "snowball = SnowballStemmer('english')\n",
        "porter = PorterStemmer()\n",
        "Lana = LancasterStemmer()\n",
        "\n",
        "print(snowball.stem('testing'))\n",
        "print(snowball.stem('tested'))\n",
        "\n",
        "\n",
        "print(porter.stem('testing'))\n",
        "print(Lana.stem('tested'))"
      ]
    },
    {
      "cell_type": "code",
      "execution_count": null,
      "metadata": {
        "id": "w-kM33HVNFWJ",
        "outputId": "a3cffa2a-f0c4-4a63-d1ce-fc44d81a3849"
      },
      "outputs": [
        {
          "name": "stderr",
          "output_type": "stream",
          "text": [
            "[nltk_data] Downloading package movie_reviews to\n",
            "[nltk_data]     /home/wangrui/nltk_data...\n",
            "[nltk_data]   Package movie_reviews is already up-to-date!\n"
          ]
        },
        {
          "data": {
            "text/plain": [
              "True"
            ]
          },
          "execution_count": 44,
          "metadata": {},
          "output_type": "execute_result"
        }
      ],
      "source": [
        "import nltk\n",
        "nltk.download('movie_reviews')"
      ]
    },
    {
      "cell_type": "markdown",
      "metadata": {
        "id": "bjLlXhx3NFWJ"
      },
      "source": [
        "## 情感分类"
      ]
    },
    {
      "cell_type": "code",
      "execution_count": null,
      "metadata": {
        "id": "LIohKE1gNFWK",
        "outputId": "b829d324-8143-4967-e4db-c290d997e94f"
      },
      "outputs": [
        {
          "name": "stdout",
          "output_type": "stream",
          "text": [
            "train: 1600\n",
            "test: 400\n"
          ]
        }
      ],
      "source": [
        "from nltk.corpus import movie_reviews\n",
        "\n",
        "import random\n",
        "\n",
        "random.seed(42)\n",
        "\n",
        "\n",
        "def load_movie_reviews():\n",
        "    # 取出正负样本的标号\n",
        "    pos_ids = movie_reviews.fileids('pos')\n",
        "    neg_ids = movie_reviews.fileids('neg')\n",
        "    \n",
        "    # 构建数据集\n",
        "    all_reviews = []\n",
        "    for pids in pos_ids:\n",
        "        all_reviews.append( ( movie_reviews.raw(pids), 'positive') )\n",
        "    \n",
        "    for nids in neg_ids:\n",
        "        all_reviews.append((movie_reviews.raw(nids), 'negative'))\n",
        "        \n",
        "    # 随机打乱\n",
        "    random.shuffle(all_reviews)\n",
        "    \n",
        "    # 切分训练集和测试集\n",
        "    sep = int(0.8 * len(all_reviews))\n",
        "\n",
        "    train_reviews = all_reviews[:sep]\n",
        "    test_reviews = all_reviews[sep:]\n",
        "\n",
        "    return train_reviews, test_reviews\n",
        "\n",
        "train_reviews, test_reviews = load_movie_reviews()\n",
        "print('train:', len(train_reviews))\n",
        "print('test:', len(test_reviews))"
      ]
    },
    {
      "cell_type": "code",
      "execution_count": null,
      "metadata": {
        "id": "ca5-P9kDNFWK",
        "outputId": "0cf4a11c-500d-4f0e-abd8-3ad48bd369f2"
      },
      "outputs": [
        {
          "name": "stdout",
          "output_type": "stream",
          "text": [
            "<class 'tuple'>\n",
            "saving private ryan ( dreamworks ) running time : 2 hours 48 minutes . \n",
            "starring tom hanks , edward burns , tom sizemore and matt damon directed by steven spielberg already being hailed as the 'greatest war movie ever made , ' saving private ryan is an harrowing , saddening and riveting movie . \n",
            "it may not be the greatest war movie in my opinion , but it's certainly one of the best war movies made , and one of the best of 1998 . \n",
            "tom hanks stars as a captain who's troop has to find private ryan ( damon ) who has a ticket home because his three brothers have been killed in action . \n",
            "action , drama and even some humour occur as the troop journeys through wartime france to find him . \n",
            "after the disappointing amistad ( 1997 ) spielberg has returned to form with this excellent movie . \n",
            "i'm not the war movie genre biggest fan , but i found this film to be gripping , and very scary , thanks to the excellent cast , direction and terrifying battle scenes . \n",
            "tom hanks is superb , straying away from his usually soppy dramatic roles , such as in forrest gump ( 1994 ) . \n",
            "this time , he plays the role with gritty realism , and is much better for it . \n",
            "occasionally he overacts the sentimentally , but he generally delivers a fine performance . \n",
            "edward burns , looking a lot like armageddon's ben affleck , also delivers a top notch performance , moving away from his roles in films such as she's the one ( 1996 ) tom sizemore makes less of an impact , but is still watchable , and matt damon reinforcing his position as one of the finest young actors working today . \n",
            "spielberg directs very well , putting the audience right in the heart of the action of the battle scenes . \n",
            "and what battle scenes they are ! \n",
            "they're truly terrifying , yet the audience cannot drag their eyes away from the screen . \n",
            "the battle scenes are filmed with a jerky hand-held camera , and the panic and confusion felt by the soldiers is emphasized by this technique . \n",
            "the gore and violence isn't spared either , which body parts flying , and blood spurting . \n",
            "this film is certainly not for kids and sensitive adults . \n",
            "other factors help saving private ryan be a masterpiece of 90's film making . \n",
            "the cinematography is excellent , and the music score by john william's is also superb . \n",
            "it is never intrusive , and adds to the drama on-screen . \n",
            "but while they are thousands of good things great about private ryan , there's one major flaw that detracts the genius of the film : the writing . \n",
            "it is unusually flat , with many of the speeches strangely weak . \n",
            "the film never really makes any profound statements . \n",
            "this is not a major gripe , as private ryan is a film of action , not words . \n",
            "still , the script could of been a lot better . \n",
            "thankfully , the actors help partly to rectify the situation with their great delivery of their lines . \n",
            "saving private ryan , in the end , is an excellent film , but not the 'greatest war movie' due to it's weak acting . \n",
            "this film should be viewed by everyone who has the stomach for it , as it's rewarding and extremely worthwhile . \n",
            "it really shouldn't be missed , and dreamworks skg has finally found it's first hit movie . \n",
            "\n",
            "----------------------\n"
          ]
        },
        {
          "data": {
            "text/plain": [
              "'positive'"
            ]
          },
          "execution_count": 65,
          "metadata": {},
          "output_type": "execute_result"
        }
      ],
      "source": [
        "# 查看一个训练样例\n",
        "print(type(train_reviews[2]))\n",
        "print(train_reviews[2][0])\n",
        "print('----------------------')\n",
        "\n",
        "train_reviews[2][1]\n",
        "\n"
      ]
    },
    {
      "cell_type": "code",
      "execution_count": null,
      "metadata": {
        "id": "CUqC97q7NFWK"
      },
      "outputs": [],
      "source": [
        "# 尝试构建第一个特征抽取器 把每一个词都看作一个特征\n",
        "def extract_feature1(text):\n",
        "    feature = {}\n",
        "    text = text.lower()\n",
        "    for word in word_tokenize(text):\n",
        "        #对句子进行分词，针对每一个词。。。\n",
        "        feature[f'contain: {word}'] = True\n",
        "    return feature"
      ]
    },
    {
      "cell_type": "code",
      "execution_count": null,
      "metadata": {
        "id": "CWDTbu9NNFWL",
        "outputId": "920d1080-1cd8-4518-ed55-ea161c7c35e9"
      },
      "outputs": [
        {
          "data": {
            "text/plain": [
              "{'contain: saving': True,\n",
              " 'contain: private': True,\n",
              " 'contain: ryan': True,\n",
              " 'contain: (': True,\n",
              " 'contain: dreamworks': True,\n",
              " 'contain: )': True,\n",
              " 'contain: running': True,\n",
              " 'contain: time': True,\n",
              " 'contain: :': True,\n",
              " 'contain: 2': True,\n",
              " 'contain: hours': True,\n",
              " 'contain: 48': True,\n",
              " 'contain: minutes': True,\n",
              " 'contain: .': True,\n",
              " 'contain: starring': True,\n",
              " 'contain: tom': True,\n",
              " 'contain: hanks': True,\n",
              " 'contain: ,': True,\n",
              " 'contain: edward': True,\n",
              " 'contain: burns': True,\n",
              " 'contain: sizemore': True,\n",
              " 'contain: and': True,\n",
              " 'contain: matt': True,\n",
              " 'contain: damon': True,\n",
              " 'contain: directed': True,\n",
              " 'contain: by': True,\n",
              " 'contain: steven': True,\n",
              " 'contain: spielberg': True,\n",
              " 'contain: already': True,\n",
              " 'contain: being': True,\n",
              " 'contain: hailed': True,\n",
              " 'contain: as': True,\n",
              " 'contain: the': True,\n",
              " \"contain: 'greatest\": True,\n",
              " 'contain: war': True,\n",
              " 'contain: movie': True,\n",
              " 'contain: ever': True,\n",
              " 'contain: made': True,\n",
              " \"contain: '\": True,\n",
              " 'contain: is': True,\n",
              " 'contain: an': True,\n",
              " 'contain: harrowing': True,\n",
              " 'contain: saddening': True,\n",
              " 'contain: riveting': True,\n",
              " 'contain: it': True,\n",
              " 'contain: may': True,\n",
              " 'contain: not': True,\n",
              " 'contain: be': True,\n",
              " 'contain: greatest': True,\n",
              " 'contain: in': True,\n",
              " 'contain: my': True,\n",
              " 'contain: opinion': True,\n",
              " 'contain: but': True,\n",
              " \"contain: 's\": True,\n",
              " 'contain: certainly': True,\n",
              " 'contain: one': True,\n",
              " 'contain: of': True,\n",
              " 'contain: best': True,\n",
              " 'contain: movies': True,\n",
              " 'contain: 1998': True,\n",
              " 'contain: stars': True,\n",
              " 'contain: a': True,\n",
              " 'contain: captain': True,\n",
              " 'contain: who': True,\n",
              " 'contain: troop': True,\n",
              " 'contain: has': True,\n",
              " 'contain: to': True,\n",
              " 'contain: find': True,\n",
              " 'contain: ticket': True,\n",
              " 'contain: home': True,\n",
              " 'contain: because': True,\n",
              " 'contain: his': True,\n",
              " 'contain: three': True,\n",
              " 'contain: brothers': True,\n",
              " 'contain: have': True,\n",
              " 'contain: been': True,\n",
              " 'contain: killed': True,\n",
              " 'contain: action': True,\n",
              " 'contain: drama': True,\n",
              " 'contain: even': True,\n",
              " 'contain: some': True,\n",
              " 'contain: humour': True,\n",
              " 'contain: occur': True,\n",
              " 'contain: journeys': True,\n",
              " 'contain: through': True,\n",
              " 'contain: wartime': True,\n",
              " 'contain: france': True,\n",
              " 'contain: him': True,\n",
              " 'contain: after': True,\n",
              " 'contain: disappointing': True,\n",
              " 'contain: amistad': True,\n",
              " 'contain: 1997': True,\n",
              " 'contain: returned': True,\n",
              " 'contain: form': True,\n",
              " 'contain: with': True,\n",
              " 'contain: this': True,\n",
              " 'contain: excellent': True,\n",
              " 'contain: i': True,\n",
              " \"contain: 'm\": True,\n",
              " 'contain: genre': True,\n",
              " 'contain: biggest': True,\n",
              " 'contain: fan': True,\n",
              " 'contain: found': True,\n",
              " 'contain: film': True,\n",
              " 'contain: gripping': True,\n",
              " 'contain: very': True,\n",
              " 'contain: scary': True,\n",
              " 'contain: thanks': True,\n",
              " 'contain: cast': True,\n",
              " 'contain: direction': True,\n",
              " 'contain: terrifying': True,\n",
              " 'contain: battle': True,\n",
              " 'contain: scenes': True,\n",
              " 'contain: superb': True,\n",
              " 'contain: straying': True,\n",
              " 'contain: away': True,\n",
              " 'contain: from': True,\n",
              " 'contain: usually': True,\n",
              " 'contain: soppy': True,\n",
              " 'contain: dramatic': True,\n",
              " 'contain: roles': True,\n",
              " 'contain: such': True,\n",
              " 'contain: forrest': True,\n",
              " 'contain: gump': True,\n",
              " 'contain: 1994': True,\n",
              " 'contain: he': True,\n",
              " 'contain: plays': True,\n",
              " 'contain: role': True,\n",
              " 'contain: gritty': True,\n",
              " 'contain: realism': True,\n",
              " 'contain: much': True,\n",
              " 'contain: better': True,\n",
              " 'contain: for': True,\n",
              " 'contain: occasionally': True,\n",
              " 'contain: overacts': True,\n",
              " 'contain: sentimentally': True,\n",
              " 'contain: generally': True,\n",
              " 'contain: delivers': True,\n",
              " 'contain: fine': True,\n",
              " 'contain: performance': True,\n",
              " 'contain: looking': True,\n",
              " 'contain: lot': True,\n",
              " 'contain: like': True,\n",
              " 'contain: armageddon': True,\n",
              " 'contain: ben': True,\n",
              " 'contain: affleck': True,\n",
              " 'contain: also': True,\n",
              " 'contain: top': True,\n",
              " 'contain: notch': True,\n",
              " 'contain: moving': True,\n",
              " 'contain: films': True,\n",
              " 'contain: she': True,\n",
              " 'contain: 1996': True,\n",
              " 'contain: makes': True,\n",
              " 'contain: less': True,\n",
              " 'contain: impact': True,\n",
              " 'contain: still': True,\n",
              " 'contain: watchable': True,\n",
              " 'contain: reinforcing': True,\n",
              " 'contain: position': True,\n",
              " 'contain: finest': True,\n",
              " 'contain: young': True,\n",
              " 'contain: actors': True,\n",
              " 'contain: working': True,\n",
              " 'contain: today': True,\n",
              " 'contain: directs': True,\n",
              " 'contain: well': True,\n",
              " 'contain: putting': True,\n",
              " 'contain: audience': True,\n",
              " 'contain: right': True,\n",
              " 'contain: heart': True,\n",
              " 'contain: what': True,\n",
              " 'contain: they': True,\n",
              " 'contain: are': True,\n",
              " 'contain: !': True,\n",
              " \"contain: 're\": True,\n",
              " 'contain: truly': True,\n",
              " 'contain: yet': True,\n",
              " 'contain: can': True,\n",
              " 'contain: drag': True,\n",
              " 'contain: their': True,\n",
              " 'contain: eyes': True,\n",
              " 'contain: screen': True,\n",
              " 'contain: filmed': True,\n",
              " 'contain: jerky': True,\n",
              " 'contain: hand-held': True,\n",
              " 'contain: camera': True,\n",
              " 'contain: panic': True,\n",
              " 'contain: confusion': True,\n",
              " 'contain: felt': True,\n",
              " 'contain: soldiers': True,\n",
              " 'contain: emphasized': True,\n",
              " 'contain: technique': True,\n",
              " 'contain: gore': True,\n",
              " 'contain: violence': True,\n",
              " \"contain: n't\": True,\n",
              " 'contain: spared': True,\n",
              " 'contain: either': True,\n",
              " 'contain: which': True,\n",
              " 'contain: body': True,\n",
              " 'contain: parts': True,\n",
              " 'contain: flying': True,\n",
              " 'contain: blood': True,\n",
              " 'contain: spurting': True,\n",
              " 'contain: kids': True,\n",
              " 'contain: sensitive': True,\n",
              " 'contain: adults': True,\n",
              " 'contain: other': True,\n",
              " 'contain: factors': True,\n",
              " 'contain: help': True,\n",
              " 'contain: masterpiece': True,\n",
              " 'contain: 90': True,\n",
              " 'contain: making': True,\n",
              " 'contain: cinematography': True,\n",
              " 'contain: music': True,\n",
              " 'contain: score': True,\n",
              " 'contain: john': True,\n",
              " 'contain: william': True,\n",
              " 'contain: never': True,\n",
              " 'contain: intrusive': True,\n",
              " 'contain: adds': True,\n",
              " 'contain: on-screen': True,\n",
              " 'contain: while': True,\n",
              " 'contain: thousands': True,\n",
              " 'contain: good': True,\n",
              " 'contain: things': True,\n",
              " 'contain: great': True,\n",
              " 'contain: about': True,\n",
              " 'contain: there': True,\n",
              " 'contain: major': True,\n",
              " 'contain: flaw': True,\n",
              " 'contain: that': True,\n",
              " 'contain: detracts': True,\n",
              " 'contain: genius': True,\n",
              " 'contain: writing': True,\n",
              " 'contain: unusually': True,\n",
              " 'contain: flat': True,\n",
              " 'contain: many': True,\n",
              " 'contain: speeches': True,\n",
              " 'contain: strangely': True,\n",
              " 'contain: weak': True,\n",
              " 'contain: really': True,\n",
              " 'contain: any': True,\n",
              " 'contain: profound': True,\n",
              " 'contain: statements': True,\n",
              " 'contain: gripe': True,\n",
              " 'contain: words': True,\n",
              " 'contain: script': True,\n",
              " 'contain: could': True,\n",
              " 'contain: thankfully': True,\n",
              " 'contain: partly': True,\n",
              " 'contain: rectify': True,\n",
              " 'contain: situation': True,\n",
              " 'contain: delivery': True,\n",
              " 'contain: lines': True,\n",
              " 'contain: end': True,\n",
              " 'contain: due': True,\n",
              " 'contain: acting': True,\n",
              " 'contain: should': True,\n",
              " 'contain: viewed': True,\n",
              " 'contain: everyone': True,\n",
              " 'contain: stomach': True,\n",
              " 'contain: rewarding': True,\n",
              " 'contain: extremely': True,\n",
              " 'contain: worthwhile': True,\n",
              " 'contain: missed': True,\n",
              " 'contain: skg': True,\n",
              " 'contain: finally': True,\n",
              " 'contain: first': True,\n",
              " 'contain: hit': True}"
            ]
          },
          "execution_count": 66,
          "metadata": {},
          "output_type": "execute_result"
        }
      ],
      "source": [
        "extract_feature1(train_reviews[2][0])"
      ]
    },
    {
      "cell_type": "code",
      "execution_count": null,
      "metadata": {
        "id": "ZpidSgLaNFWL"
      },
      "outputs": [],
      "source": [
        "from nltk import NaiveBayesClassifier\n",
        "import nltk\n",
        "# def train():\n",
        "#     #1.加载数据\n",
        "#     #2.加载模型\n",
        "#     #3.设置batch-size,学习率,,,\n",
        "# def test():\n",
        "#     #1.加载模型，运算，（preds，labels）--》precision\n",
        "def train_and_test(extract_feature, train_data, test_data):\n",
        "    training_set = nltk.classify.apply_features(extract_feature, train_data)\n",
        "    \n",
        "    test_set = nltk.classify.apply_features(extract_feature, test_data)\n",
        "    # print(test_set)\n",
        "\n",
        "    classifier = NaiveBayesClassifier.train(training_set)\n",
        "    print(classifier)\n",
        "    \n",
        "    accuracy = nltk.classify.util.accuracy(classifier, test_set)\n",
        "    print(f'accuracy is {accuracy:.4f}')\n",
        "\n",
        "    return classifier\n"
      ]
    },
    {
      "cell_type": "code",
      "execution_count": null,
      "metadata": {
        "id": "3Xhm4CwINFWL",
        "outputId": "45c40855-7c26-4d4c-be57-25a5b99d6589"
      },
      "outputs": [
        {
          "name": "stdout",
          "output_type": "stream",
          "text": [
            "<nltk.classify.naivebayes.NaiveBayesClassifier object at 0x7f3c85393c40>\n",
            "accuracy is 0.7450\n"
          ]
        }
      ],
      "source": [
        "model1 = train_and_test(extract_feature1, train_reviews, test_reviews)"
      ]
    },
    {
      "cell_type": "code",
      "execution_count": null,
      "metadata": {
        "id": "RlqEGTwaNFWM",
        "outputId": "769a0893-e833-4a07-9cb4-a69a43cf4b6e"
      },
      "outputs": [
        {
          "name": "stdout",
          "output_type": "stream",
          "text": [
            "Most Informative Features\n",
            "          contain: sucks = True           negati : positi =     15.1 : 1.0\n",
            "       contain: nonsense = True           negati : positi =     13.1 : 1.0\n",
            "     contain: astounding = True           positi : negati =     11.6 : 1.0\n",
            "    contain: outstanding = True           positi : negati =     11.6 : 1.0\n",
            "      contain: stupidity = True           negati : positi =     11.1 : 1.0\n",
            "      contain: atrocious = True           negati : positi =     11.1 : 1.0\n",
            "         contain: seagal = True           negati : positi =     10.4 : 1.0\n",
            "         contain: avoids = True           positi : negati =     10.3 : 1.0\n",
            "         contain: finest = True           positi : negati =      9.8 : 1.0\n",
            "       contain: one-note = True           negati : positi =      9.7 : 1.0\n"
          ]
        }
      ],
      "source": [
        "model1.show_most_informative_features()"
      ]
    },
    {
      "cell_type": "code",
      "execution_count": null,
      "metadata": {
        "id": "cI_O-amMNFWM",
        "outputId": "16e2b648-4959-4808-a242-2bbaddc84bfa"
      },
      "outputs": [
        {
          "data": {
            "text/plain": [
              "'positive'"
            ]
          },
          "execution_count": 69,
          "metadata": {},
          "output_type": "execute_result"
        }
      ],
      "source": [
        "sentence = 'it is a wonderful movie'\n",
        "feature = extract_feature1(sentence)\n",
        "\n",
        "model1.classify(feature)"
      ]
    },
    {
      "cell_type": "code",
      "execution_count": null,
      "metadata": {
        "id": "WaMeBDyfNFWM"
      },
      "outputs": [],
      "source": [
        "# 只考虑形容词\n",
        "\n",
        "def extract_feature2(text):\n",
        "    text = text.lower()\n",
        "    feature = {}\n",
        "    tokens = word_tokenize(text)\n",
        "    for word, pos in pos_tag(tokens):\n",
        "        if pos == 'JJ':\n",
        "            feature[f'contain: {word}'] = True\n",
        "    return feature"
      ]
    },
    {
      "cell_type": "code",
      "execution_count": null,
      "metadata": {
        "id": "DvYejWPDNFWM"
      },
      "outputs": [],
      "source": [
        "# extract_feature2(train_reviews[2][0])"
      ]
    },
    {
      "cell_type": "code",
      "execution_count": null,
      "metadata": {
        "id": "lMLfKPN5NFWM",
        "outputId": "968ab2b5-ddea-435c-c5b4-5f3c22b3d13c"
      },
      "outputs": [
        {
          "name": "stdout",
          "output_type": "stream",
          "text": [
            "<nltk.classify.naivebayes.NaiveBayesClassifier object at 0x7f3ba0d2ea90>\n",
            "accuracy is 0.7250\n"
          ]
        }
      ],
      "source": [
        "model2 = train_and_test(extract_feature2, train_reviews, test_reviews)"
      ]
    },
    {
      "cell_type": "markdown",
      "metadata": {
        "id": "BGZbU0RRNFWN"
      },
      "source": [
        "思考：该分类器性能不行？"
      ]
    },
    {
      "cell_type": "code",
      "execution_count": null,
      "metadata": {
        "id": "1clBRpn-NFWN",
        "outputId": "847e2486-261f-4823-b2cc-41c3edf49d78"
      },
      "outputs": [
        {
          "name": "stdout",
          "output_type": "stream",
          "text": [
            "Most Informative Features\n",
            "    contain: outstanding = True           positi : negati =     11.6 : 1.0\n",
            "      contain: atrocious = True           negati : positi =     11.1 : 1.0\n",
            "       contain: one-note = True           negati : positi =      9.7 : 1.0\n",
            "      contain: ludicrous = True           negati : positi =      9.6 : 1.0\n",
            "          contain: fairy = True           positi : negati =      9.6 : 1.0\n",
            "     contain: unbearable = True           negati : positi =      9.0 : 1.0\n",
            "          contain: worst = True           negati : positi =      9.0 : 1.0\n",
            "         contain: truman = True           positi : negati =      9.0 : 1.0\n",
            "     contain: accessible = True           positi : negati =      8.3 : 1.0\n",
            "       contain: seamless = True           positi : negati =      8.3 : 1.0\n"
          ]
        }
      ],
      "source": [
        "model2.show_most_informative_features()"
      ]
    },
    {
      "cell_type": "code",
      "execution_count": null,
      "metadata": {
        "id": "Ohc5ZGigNFWN"
      },
      "outputs": [],
      "source": [
        "# 利用bigram\n",
        "\n",
        "from nltk import ngrams\n",
        "\n",
        "\n",
        "def extract_feature3(text):\n",
        "    text = text.lower()\n",
        "    feature = {}\n",
        "    tokens = word_tokenize(text)\n",
        "    for word in tokens:\n",
        "        feature[f'contain: {word}'] = True\n",
        "    for bigram in ngrams(tokens, 2):\n",
        "        bigram = ' '.join(bigram)\n",
        "        feature[bigram] = True\n",
        "    return feature"
      ]
    },
    {
      "cell_type": "code",
      "execution_count": null,
      "metadata": {
        "id": "CaclUDVVNFWN",
        "outputId": "6f8066d5-9ec5-4f81-bbb4-acca5a836252"
      },
      "outputs": [
        {
          "name": "stdout",
          "output_type": "stream",
          "text": [
            "accuracy is 0.7775\n"
          ]
        }
      ],
      "source": [
        "model3 = train_and_test(extract_feature3, train_reviews, test_reviews)"
      ]
    },
    {
      "cell_type": "code",
      "execution_count": null,
      "metadata": {
        "id": "6wxRseULNFWN",
        "outputId": "b2956dce-4c24-425f-fe23-7cd5bef81c6e"
      },
      "outputs": [
        {
          "name": "stdout",
          "output_type": "stream",
          "text": [
            "Most Informative Features\n",
            "          contain: sucks = True           negati : positi =     15.1 : 1.0\n",
            "       contain: nonsense = True           negati : positi =     13.1 : 1.0\n",
            "                to waste = True           negati : positi =     13.1 : 1.0\n",
            "              matt damon = True           positi : negati =     12.3 : 1.0\n",
            "               insult to = True           negati : positi =     11.7 : 1.0\n",
            "            saving grace = True           negati : positi =     11.7 : 1.0\n",
            "               . cameron = True           positi : negati =     11.6 : 1.0\n",
            "     contain: astounding = True           positi : negati =     11.6 : 1.0\n",
            "              fairy tale = True           positi : negati =     11.6 : 1.0\n",
            "                 our own = True           positi : negati =     11.6 : 1.0\n",
            "    contain: outstanding = True           positi : negati =     11.6 : 1.0\n",
            "      contain: stupidity = True           negati : positi =     11.1 : 1.0\n",
            "                  so why = True           negati : positi =     11.1 : 1.0\n",
            "                waste of = True           negati : positi =     11.1 : 1.0\n",
            "                 & robin = True           negati : positi =     11.1 : 1.0\n",
            "                 awful . = True           negati : positi =     11.1 : 1.0\n",
            "                batman & = True           negati : positi =     11.1 : 1.0\n",
            "      contain: atrocious = True           negati : positi =     11.1 : 1.0\n",
            "           quite frankly = True           negati : positi =     11.1 : 1.0\n",
            "              and boring = True           negati : positi =     10.4 : 1.0\n"
          ]
        }
      ],
      "source": [
        "model3.show_most_informative_features(20)"
      ]
    },
    {
      "cell_type": "markdown",
      "metadata": {
        "id": "Z8r3R1ikNFWO"
      },
      "source": [
        "## 进一步的改进\n",
        "- 特征选择\n",
        "    - ngram会使得特征空间的大小快速增加\n",
        "    - 特征选择旨在初步剔除那些对分类无益的特征\n",
        "- 考虑词频信息，如TF-IDF\n",
        "    - 特征从一个词是否出现，变为这个词出现了多少次。特征的信息含量增加。\n",
        "- 处理否定词\n",
        "    - 将否定词+形容词，变为一个新的词\n",
        "    - 'not good' -> NOT_good\n",
        "- ..."
      ]
    }
  ],
  "metadata": {
    "kernelspec": {
      "display_name": "Python 3",
      "language": "python",
      "name": "python3"
    },
    "language_info": {
      "codemirror_mode": {
        "name": "ipython",
        "version": 3
      },
      "file_extension": ".py",
      "mimetype": "text/x-python",
      "name": "python",
      "nbconvert_exporter": "python",
      "pygments_lexer": "ipython3",
      "version": "3.8.5"
    },
    "colab": {
      "name": "1.1 NLTK.ipynb",
      "provenance": [],
      "include_colab_link": true
    }
  },
  "nbformat": 4,
  "nbformat_minor": 0
}