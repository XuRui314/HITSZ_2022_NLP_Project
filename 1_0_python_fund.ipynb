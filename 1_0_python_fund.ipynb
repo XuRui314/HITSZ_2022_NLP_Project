{
  "cells": [
    {
      "cell_type": "markdown",
      "metadata": {
        "id": "view-in-github",
        "colab_type": "text"
      },
      "source": [
        "<a href=\"https://colab.research.google.com/github/XuRui314/HITSZ_2022_NLP_Project/blob/main/1_0_python_fund.ipynb\" target=\"_parent\"><img src=\"https://colab.research.google.com/assets/colab-badge.svg\" alt=\"Open In Colab\"/></a>"
      ]
    },
    {
      "cell_type": "markdown",
      "metadata": {
        "id": "c75XI4bbM0Ym"
      },
      "source": [
        "### 提纲\n",
        "\n",
        "\n",
        "本次实验课的主要内容有\n",
        "- Python基础，数据处理库：Numpy, Pandas\n",
        "- 简要介绍nltk\n",
        "- 简要介绍gensim\n",
        "- 通过以下三种方法实现一个简单的情感分类器\n",
        "    - ngram特征+朴素贝叶斯\n",
        "    - 情感词典\n",
        "    - 词向量+SVM"
      ]
    },
    {
      "cell_type": "markdown",
      "metadata": {
        "id": "fHmKuwKRM0Yp"
      },
      "source": [
        "不可变类型：数字类型, 字符串, turples; \n",
        "\n",
        "\n",
        "可变类型： list, dictionary;\n"
      ]
    },
    {
      "cell_type": "code",
      "execution_count": null,
      "metadata": {
        "id": "trBlcLTvM0Yp",
        "outputId": "499cfd8f-f6f1-4580-be24-9d7b62d31061"
      },
      "outputs": [
        {
          "name": "stdout",
          "output_type": "stream",
          "text": [
            "94025929645408\n",
            "94025929645440\n",
            "94025929645408\n"
          ]
        },
        {
          "data": {
            "text/plain": [
              "'\\nturples, string类似\\n'"
            ]
          },
          "execution_count": 19,
          "metadata": {},
          "output_type": "execute_result"
        }
      ],
      "source": [
        "a = 2\n",
        "print(id(a))\n",
        "b = 3\n",
        "print(id(b))\n",
        "b = a\n",
        "#数字不可变，赋引用，而不是赋值，a,b指向了同一片内存空间，而不是将值赋到b指向的空间内\n",
        "print(id(b))\n",
        "\n",
        "\n",
        "'''\n",
        "turples, string类似\n",
        "'''"
      ]
    },
    {
      "cell_type": "code",
      "execution_count": null,
      "metadata": {
        "id": "_hLmbmRRM0Yq",
        "outputId": "060d3972-1141-4e91-8e71-8de268e45c0c"
      },
      "outputs": [
        {
          "name": "stdout",
          "output_type": "stream",
          "text": [
            "1\n"
          ]
        },
        {
          "ename": "TypeError",
          "evalue": "'str' object does not support item assignment",
          "output_type": "error",
          "traceback": [
            "\u001b[0;31m---------------------------------------------------------------------------\u001b[0m",
            "\u001b[0;31mTypeError\u001b[0m                                 Traceback (most recent call last)",
            "\u001b[0;32m/tmp/ipykernel_7038/2939837318.py\u001b[0m in \u001b[0;36m<module>\u001b[0;34m\u001b[0m\n\u001b[1;32m      1\u001b[0m \u001b[0ms\u001b[0m \u001b[0;34m=\u001b[0m \u001b[0;34m'1234'\u001b[0m\u001b[0;34m\u001b[0m\u001b[0;34m\u001b[0m\u001b[0m\n\u001b[1;32m      2\u001b[0m \u001b[0mprint\u001b[0m\u001b[0;34m(\u001b[0m\u001b[0ms\u001b[0m\u001b[0;34m[\u001b[0m\u001b[0;36m0\u001b[0m\u001b[0;34m]\u001b[0m\u001b[0;34m)\u001b[0m\u001b[0;34m\u001b[0m\u001b[0;34m\u001b[0m\u001b[0m\n\u001b[0;32m----> 3\u001b[0;31m \u001b[0ms\u001b[0m\u001b[0;34m[\u001b[0m\u001b[0;36m0\u001b[0m\u001b[0;34m]\u001b[0m\u001b[0;34m=\u001b[0m\u001b[0;34m'k'\u001b[0m\u001b[0;34m\u001b[0m\u001b[0;34m\u001b[0m\u001b[0m\n\u001b[0m\u001b[1;32m      4\u001b[0m \u001b[0;31m#string不可变，赋值出现错误\u001b[0m\u001b[0;34m\u001b[0m\u001b[0;34m\u001b[0m\u001b[0;34m\u001b[0m\u001b[0m\n",
            "\u001b[0;31mTypeError\u001b[0m: 'str' object does not support item assignment"
          ]
        }
      ],
      "source": [
        "s = '1234'\n",
        "print(s[0])\n",
        "s[0]='k'\n",
        "#string不可变，赋值出现错误"
      ]
    },
    {
      "cell_type": "markdown",
      "metadata": {
        "id": "njoOKW04M0Yr"
      },
      "source": [
        "### 列表及切片"
      ]
    },
    {
      "cell_type": "code",
      "execution_count": null,
      "metadata": {
        "id": "wYLmMyUfM0Yr",
        "outputId": "519297b6-5445-4e65-9bc2-4ff997a803eb"
      },
      "outputs": [
        {
          "name": "stdout",
          "output_type": "stream",
          "text": [
            "[1, 2, 3, 4, 5, 6, 7, 8] <class 'list'>\n"
          ]
        }
      ],
      "source": [
        "a = [1,2,3,4,5,6,7,8]\n",
        "\n",
        "print(a,type(a))\n"
      ]
    },
    {
      "cell_type": "code",
      "execution_count": null,
      "metadata": {
        "id": "W52fMMV3M0Yr",
        "outputId": "34d5635d-1aaf-4ec1-cca2-b42ad457661d"
      },
      "outputs": [
        {
          "data": {
            "text/plain": [
              "8"
            ]
          },
          "execution_count": 2,
          "metadata": {},
          "output_type": "execute_result"
        }
      ],
      "source": [
        "a[-1]"
      ]
    },
    {
      "cell_type": "code",
      "execution_count": null,
      "metadata": {
        "id": "7o0Vv4iuM0Ys",
        "outputId": "0917258d-d243-43a8-dbac-363a26038e81"
      },
      "outputs": [
        {
          "name": "stdout",
          "output_type": "stream",
          "text": [
            "[1, 2, 3, 4, 5, 6, 7, 8]\n",
            "[1, 2, 3, 4, 5, 6, 7]\n",
            "[1, 2, 3]\n"
          ]
        }
      ],
      "source": [
        "print(a[0 : ])\n",
        "#左闭右开\n",
        "print(a[0:-1])\n",
        "print(a[0:3])"
      ]
    },
    {
      "cell_type": "markdown",
      "metadata": {
        "id": "s7d8qJnUM0Ys"
      },
      "source": [
        "### 字典"
      ]
    },
    {
      "cell_type": "code",
      "execution_count": null,
      "metadata": {
        "id": "QqvnRc_nM0Ys",
        "outputId": "dc052154-4e39-4b4b-8d44-cb705111082b"
      },
      "outputs": [
        {
          "name": "stdout",
          "output_type": "stream",
          "text": [
            "dict_keys(['peter', 'tom', 'ketty'])\n",
            "dict_values([2, 4, 6]) <class 'dict_values'>\n",
            "--------------------\n",
            "peter 2\n",
            "tom 4\n",
            "ketty 6\n",
            "--------------------\n",
            "peter\n",
            "tom\n",
            "ketty\n"
          ]
        }
      ],
      "source": [
        "dic = {'peter':2,'tom':4,'ketty':6}\n",
        "print(dic.keys())\n",
        "print(dic.values())\n",
        "\n",
        "print('--------------------')\n",
        "for k,v in dic.items():\n",
        "    print(k,v)\n",
        "print('--------------------')\n",
        "for k in dic:\n",
        "    print(k)"
      ]
    },
    {
      "cell_type": "markdown",
      "metadata": {
        "id": "PIUCYWTbM0Ys"
      },
      "source": [
        "### 函数"
      ]
    },
    {
      "cell_type": "code",
      "execution_count": null,
      "metadata": {
        "id": "g9S2DLT6M0Yt",
        "outputId": "8bd4cf0d-f712-4cad-8ec4-eb3465a330b3"
      },
      "outputs": [
        {
          "name": "stdout",
          "output_type": "stream",
          "text": [
            "[0, 1, 2, 3, 4, 5, 6, 7, 8, 9]\n"
          ]
        }
      ],
      "source": [
        "def hello(num: int) -> str :\n",
        "    #建议变量类型以及返回值类型\n",
        "    sent_list =  [str(i+1) + ' hello world !\\n' for i in range(num)]\n",
        "    return ''.join(sent_list)\n",
        "    # return 1\n",
        "# for k in range(10):\n",
        "#     print(k)\n",
        "print(list(range(10)))"
      ]
    },
    {
      "cell_type": "code",
      "execution_count": null,
      "metadata": {
        "id": "vnjiajNnM0Yt",
        "outputId": "d9a7fc70-d883-43a3-e271-07e28ccc572e"
      },
      "outputs": [
        {
          "name": "stdout",
          "output_type": "stream",
          "text": [
            "1 hello world !\n",
            "2 hello world !\n",
            "3 hello world !\n",
            "\n"
          ]
        }
      ],
      "source": [
        "print(hello(num = 3))"
      ]
    },
    {
      "cell_type": "code",
      "execution_count": null,
      "metadata": {
        "id": "i2qiILHGM0Yt",
        "outputId": "f33ea954-724b-455e-9809-9c0ece5323c1"
      },
      "outputs": [
        {
          "ename": "TypeError",
          "evalue": "'str' object cannot be interpreted as an integer",
          "output_type": "error",
          "traceback": [
            "\u001b[0;31m---------------------------------------------------------------------------\u001b[0m",
            "\u001b[0;31mTypeError\u001b[0m                                 Traceback (most recent call last)",
            "\u001b[0;32m/tmp/ipykernel_7038/1793760097.py\u001b[0m in \u001b[0;36m<module>\u001b[0;34m\u001b[0m\n\u001b[0;32m----> 1\u001b[0;31m \u001b[0mprint\u001b[0m\u001b[0;34m(\u001b[0m\u001b[0mhello\u001b[0m\u001b[0;34m(\u001b[0m\u001b[0;34m'1'\u001b[0m\u001b[0;34m)\u001b[0m\u001b[0;34m)\u001b[0m\u001b[0;34m\u001b[0m\u001b[0;34m\u001b[0m\u001b[0m\n\u001b[0m",
            "\u001b[0;32m/tmp/ipykernel_7038/3837487293.py\u001b[0m in \u001b[0;36mhello\u001b[0;34m(num)\u001b[0m\n\u001b[1;32m      1\u001b[0m \u001b[0;32mdef\u001b[0m \u001b[0mhello\u001b[0m\u001b[0;34m(\u001b[0m\u001b[0mnum\u001b[0m\u001b[0;34m:\u001b[0m \u001b[0mint\u001b[0m\u001b[0;34m)\u001b[0m \u001b[0;34m->\u001b[0m \u001b[0mstr\u001b[0m \u001b[0;34m:\u001b[0m\u001b[0;34m\u001b[0m\u001b[0;34m\u001b[0m\u001b[0m\n\u001b[1;32m      2\u001b[0m     \u001b[0;31m#建议变量类型以及返回值类型\u001b[0m\u001b[0;34m\u001b[0m\u001b[0;34m\u001b[0m\u001b[0;34m\u001b[0m\u001b[0m\n\u001b[0;32m----> 3\u001b[0;31m     \u001b[0msent_list\u001b[0m \u001b[0;34m=\u001b[0m  \u001b[0;34m[\u001b[0m\u001b[0mstr\u001b[0m\u001b[0;34m(\u001b[0m\u001b[0mi\u001b[0m\u001b[0;34m+\u001b[0m\u001b[0;36m1\u001b[0m\u001b[0;34m)\u001b[0m \u001b[0;34m+\u001b[0m \u001b[0;34m' hello world !\\n'\u001b[0m \u001b[0;32mfor\u001b[0m \u001b[0mi\u001b[0m \u001b[0;32min\u001b[0m \u001b[0mrange\u001b[0m\u001b[0;34m(\u001b[0m\u001b[0mnum\u001b[0m\u001b[0;34m)\u001b[0m\u001b[0;34m]\u001b[0m\u001b[0;34m\u001b[0m\u001b[0;34m\u001b[0m\u001b[0m\n\u001b[0m\u001b[1;32m      4\u001b[0m     \u001b[0;32mreturn\u001b[0m \u001b[0;34m''\u001b[0m\u001b[0;34m.\u001b[0m\u001b[0mjoin\u001b[0m\u001b[0;34m(\u001b[0m\u001b[0msent_list\u001b[0m\u001b[0;34m)\u001b[0m\u001b[0;34m\u001b[0m\u001b[0;34m\u001b[0m\u001b[0m\n\u001b[1;32m      5\u001b[0m     \u001b[0;31m# return 1\u001b[0m\u001b[0;34m\u001b[0m\u001b[0;34m\u001b[0m\u001b[0;34m\u001b[0m\u001b[0m\n",
            "\u001b[0;31mTypeError\u001b[0m: 'str' object cannot be interpreted as an integer"
          ]
        }
      ],
      "source": [
        "print(hello('1'))"
      ]
    },
    {
      "cell_type": "markdown",
      "metadata": {
        "id": "9MlKONNcM0Yu"
      },
      "source": [
        "在进行参数传递时，对于可变类型和不可变类型传递方式有所不同："
      ]
    },
    {
      "cell_type": "code",
      "execution_count": null,
      "metadata": {
        "id": "Nn1rF88qM0Yu",
        "outputId": "3f29ab6b-eece-4c14-c956-9439800a52da"
      },
      "outputs": [
        {
          "name": "stdout",
          "output_type": "stream",
          "text": [
            "函数内，计算前参数x的地址 94914021309792\n",
            "函数内，计算后参数x的地址 94914021309856\n",
            "4\n",
            "函数外，t的地址 94914021309792\n",
            "2\n"
          ]
        }
      ],
      "source": [
        "def changeInt(x: int) -> int:\n",
        "    \n",
        "    print(\"函数内，计算前参数x的地址\",id(x))\n",
        "\n",
        "    x = x*x\n",
        "    print(\"函数内，计算后参数x的地址\",id(x))\n",
        "\n",
        "    return x\n",
        "\n",
        "t = 2\n",
        "print(changeInt(t))\n",
        "print(\"函数外，t的地址\",id(t))\n",
        "print(t)"
      ]
    },
    {
      "cell_type": "code",
      "execution_count": null,
      "metadata": {
        "id": "747WnpPaM0Yu",
        "outputId": "95d5925e-0b2f-4003-930f-b65f1dd13d62"
      },
      "outputs": [
        {
          "name": "stdout",
          "output_type": "stream",
          "text": [
            "函数内，计算前参数x的地址 140650950774464\n",
            "函数内，计算后参数x的地址 140650950774464\n",
            "[0, 2]\n",
            "函数外，t的地址 140650950774464\n",
            "[0, 2]\n"
          ]
        }
      ],
      "source": [
        "def changeInt(x: list)->list:\n",
        "    print(\"函数内，计算前参数x的地址\",id(x))\n",
        "    x[0]=0\n",
        "    print(\"函数内，计算后参数x的地址\",id(x))\n",
        "\n",
        "    return x\n",
        "\n",
        "t = [1,2]\n",
        "print(changeInt(t))\n",
        "print(\"函数外，t的地址\",id(t))\n",
        "print(t)"
      ]
    },
    {
      "cell_type": "code",
      "execution_count": null,
      "metadata": {
        "id": "qDtO9RxoM0Yv",
        "outputId": "8d43bde5-15ae-4e8d-c399-406a44b0df6b"
      },
      "outputs": [
        {
          "name": "stdout",
          "output_type": "stream",
          "text": [
            "1\n",
            "元组收集参数 (1, 2, 3, 4)\n",
            "字典收集参数 {'w': 1, 'v': 2}\n",
            "2\n",
            "元组收集参数 ()\n",
            "字典收集参数 {}\n",
            "2\n",
            "元组收集参数 (4,)\n",
            "字典收集参数 {'i': 1, 'j': 2, 'k': 3, 'm': 4}\n"
          ]
        }
      ],
      "source": [
        "#不定长参数\n",
        "def manyArgs(a: int, *wargs, **kwargs):\n",
        "    print(a)\n",
        "    print(\"元组收集参数\",wargs)\n",
        "    print(\"字典收集参数\",kwargs)\n",
        "    # print(w)\n",
        "\n",
        "manyArgs(1, *(1,2,3,4),**{'w':1,'v':2})\n",
        "manyArgs(2)\n",
        "manyArgs(2,4,i=1,j=2,k=3,m=4)\n"
      ]
    },
    {
      "cell_type": "markdown",
      "metadata": {
        "id": "OeoXu5sSM0Yv"
      },
      "source": [
        "### 类"
      ]
    },
    {
      "cell_type": "code",
      "execution_count": null,
      "metadata": {
        "id": "QY6pj3XmM0Yw"
      },
      "outputs": [],
      "source": [
        "class Pet:\n",
        "    def __init__(self, species, name):\n",
        "        self.species = species\n",
        "        self.name = name\n",
        "        print(\"Now you have a {}! (PET)\".format(self.species))\n",
        "\n",
        "    def __str__(self):\n",
        "        return f\"{self.name} is a {self.species}. (PET)\"\n",
        "\n",
        "        \n"
      ]
    },
    {
      "cell_type": "code",
      "execution_count": null,
      "metadata": {
        "id": "B46iQyb5M0Yw",
        "outputId": "02891d88-15cc-44c7-8280-8ad2aec972e6"
      },
      "outputs": [
        {
          "name": "stdout",
          "output_type": "stream",
          "text": [
            "Now you have a blue cat! (PET)\n",
            "Tom is a blue cat. (PET)\n"
          ]
        }
      ],
      "source": [
        "tom_cat = Pet(\"blue cat\",\"Tom\")\n",
        "\n",
        "print(tom_cat)"
      ]
    },
    {
      "cell_type": "code",
      "execution_count": null,
      "metadata": {
        "id": "3Oxe1oB4M0Yw"
      },
      "outputs": [],
      "source": [
        "class Cat(Pet):\n",
        "    def __init__(self, species, name, color):\n",
        "        \n",
        "        super().__init__(\"Cat\", name)\n",
        "\n",
        "        self.color = color\n",
        "        print(f\"Now you have a {self.color} cat!\")\n",
        "        \n",
        "    def call(self):\n",
        "        print(f\"{self.name} just mewed!\")\n"
      ]
    },
    {
      "cell_type": "code",
      "execution_count": null,
      "metadata": {
        "id": "ZSjWBY3EM0Yx",
        "outputId": "544768db-cbb2-4511-c5c3-436d9e7266aa"
      },
      "outputs": [
        {
          "name": "stdout",
          "output_type": "stream",
          "text": [
            "Now you have a Cat! (PET)\n",
            "Now you have a black cat!\n",
            "tony is a Cat. (PET)\n",
            "tony just mewed!\n"
          ]
        }
      ],
      "source": [
        "tony_cat = Cat(\"cat\", 'tony',\"black\")\n",
        "\n",
        "print(tony_cat)\n",
        "\n",
        "tony_cat.call()"
      ]
    },
    {
      "cell_type": "markdown",
      "metadata": {
        "id": "Ndcdpxj1M0Yx"
      },
      "source": [
        "## numpy\n",
        "支持大量的维度数组与矩阵运算，此外也针对数组运算提供大量的数学函数库。\n",
        "\n"
      ]
    },
    {
      "cell_type": "code",
      "execution_count": null,
      "metadata": {
        "id": "avpxRVirM0Yx"
      },
      "outputs": [],
      "source": [
        "import numpy as np"
      ]
    },
    {
      "cell_type": "code",
      "execution_count": null,
      "metadata": {
        "id": "5HfG-HwWM0Yx"
      },
      "outputs": [],
      "source": [
        "#设置随机种子，如果不设置随机种子会导致结果无法复现\n",
        "np.random.seed(seed=42)\n",
        "\n",
        "#【1,2,3,4】\n",
        "#1 \n",
        "#4\n",
        "#...\n",
        "\n",
        "#1\n",
        "#4\n",
        "#..."
      ]
    },
    {
      "cell_type": "code",
      "execution_count": null,
      "metadata": {
        "id": "AaKCdAlGM0Yy",
        "outputId": "e79218c1-a0df-48e7-fe12-508ce6d8ea67"
      },
      "outputs": [
        {
          "name": "stdout",
          "output_type": "stream",
          "text": [
            "x:  6\n",
            "x ndim:  0\n",
            "x shape: ()\n",
            "x size:  1\n",
            "x dtype:  int64\n"
          ]
        }
      ],
      "source": [
        "# Scalar\n",
        "x = np.array(6) # scalar\n",
        "print (\"x: \", x)\n",
        "# Number of dimensions\n",
        "print (\"x ndim: \", x.ndim)\n",
        "# Dimensions\n",
        "print (\"x shape:\", x.shape)\n",
        "# Size of elements\n",
        "print (\"x size: \", x.size)\n",
        "# Data type\n",
        "print (\"x dtype: \", x.dtype)"
      ]
    },
    {
      "cell_type": "code",
      "execution_count": null,
      "metadata": {
        "id": "wnm1JVriM0Yy",
        "outputId": "da00b4e3-4749-4a70-a33b-9a4cb7933061"
      },
      "outputs": [
        {
          "name": "stdout",
          "output_type": "stream",
          "text": [
            "x:  [1.3 2.2 1.7]\n",
            "x ndim:  1\n",
            "x shape: (3,)\n",
            "x size:  3\n",
            "x dtype:  float64\n"
          ]
        }
      ],
      "source": [
        "# Vector\n",
        "x = np.array([1.3 , 2.2 , 1.7])\n",
        "print (\"x: \", x)\n",
        "print (\"x ndim: \", x.ndim)\n",
        "print (\"x shape:\", x.shape)\n",
        "print (\"x size: \", x.size)\n",
        "print (\"x dtype: \", x.dtype) # notice the float datatype"
      ]
    },
    {
      "cell_type": "code",
      "execution_count": null,
      "metadata": {
        "id": "KH6in9u8M0Yy",
        "outputId": "63094288-62c4-4cd6-fdd5-dda3e2a02454"
      },
      "outputs": [
        {
          "name": "stdout",
          "output_type": "stream",
          "text": [
            "x:\n",
            " [[1. 2.]\n",
            " [3. 4.]]\n",
            "x ndim:  2\n",
            "x shape: (2, 2)\n",
            "x size:  4\n",
            "x dtype:  float64\n"
          ]
        }
      ],
      "source": [
        "# Matrix\n",
        "x = np.array([[1,2], [3,4]],dtype=float)\n",
        "print (\"x:\\n\", x)\n",
        "print (\"x ndim: \", x.ndim)\n",
        "print (\"x shape:\", x.shape)\n",
        "print (\"x size: \", x.size)\n",
        "print (\"x dtype: \", x.dtype)"
      ]
    },
    {
      "cell_type": "code",
      "execution_count": null,
      "metadata": {
        "id": "BuI2XA-DM0Yy",
        "outputId": "daf3cd98-46ed-4470-bb56-de5c1f96baf0"
      },
      "outputs": [
        {
          "name": "stdout",
          "output_type": "stream",
          "text": [
            "x:\n",
            " [[[1 2]\n",
            "  [3 4]]\n",
            "\n",
            " [[5 6]\n",
            "  [7 8]]]\n",
            "x ndim:  3\n",
            "x shape: (2, 2, 2)\n",
            "x size:  8\n",
            "x dtype:  int64\n"
          ]
        }
      ],
      "source": [
        "# 3-D Tensor\n",
        "x = np.array([[[1,2],[3,4]],[[5,6],[7,8]]])\n",
        "print (\"x:\\n\", x)\n",
        "print (\"x ndim: \", x.ndim)\n",
        "print (\"x shape:\", x.shape)\n",
        "print (\"x size: \", x.size)\n",
        "print (\"x dtype: \", x.dtype)"
      ]
    },
    {
      "cell_type": "markdown",
      "metadata": {
        "id": "VyWFqC9dM0Yy"
      },
      "source": [
        "一些快速初始化array的函数"
      ]
    },
    {
      "cell_type": "code",
      "execution_count": null,
      "metadata": {
        "id": "jJOR3YFtM0Yz",
        "outputId": "130fa5d0-46c5-4716-994f-f02692818924"
      },
      "outputs": [
        {
          "name": "stdout",
          "output_type": "stream",
          "text": [
            "np.zeros((2,2)):\n",
            " [[0. 0.]\n",
            " [0. 0.]]\n",
            "np.ones((2,2)):\n",
            " [[1. 1.]\n",
            " [1. 1.]]\n",
            "np.eye((2)):\n",
            " [[1. 0.]\n",
            " [0. 1.]]\n",
            "np.random.random((2,2)):\n",
            " [[0.19151945 0.62210877]\n",
            " [0.43772774 0.78535858]]\n"
          ]
        }
      ],
      "source": [
        "# Functions\n",
        "print (\"np.zeros((2,2)):\\n\", np.zeros( (2,2) ) )\n",
        "print (\"np.ones((2,2)):\\n\", np.ones( (2,2) ))\n",
        "print (\"np.eye((2)):\\n\", np.eye( (2) )) # identity matrix \n",
        "print (\"np.random.random((2,2)):\\n\", np.random.random( (2,2) ))"
      ]
    },
    {
      "cell_type": "code",
      "execution_count": null,
      "metadata": {
        "id": "k_pDEvMJM0Yz",
        "outputId": "a5cda95e-b6a2-4052-ee7d-980d252a94ea"
      },
      "outputs": [
        {
          "name": "stdout",
          "output_type": "stream",
          "text": [
            "x:  [1 2 3]\n",
            "x[0]:  1\n",
            "x:  [0 2 3]\n"
          ]
        }
      ],
      "source": [
        "# Indexing\n",
        "x = np.array([1, 2, 3])\n",
        "\n",
        "print (\"x: \", x)\n",
        "print (\"x[0]: \", x[0])\n",
        "x[0] = 0\n",
        "print (\"x: \", x)"
      ]
    },
    {
      "cell_type": "code",
      "execution_count": null,
      "metadata": {
        "id": "nv0iIprfM0Yz",
        "outputId": "b0eb8204-1e86-43e3-db1a-014fc33854b9"
      },
      "outputs": [
        {
          "name": "stdout",
          "output_type": "stream",
          "text": [
            "[[ 1  2  3  4]\n",
            " [ 5  6  7  8]\n",
            " [ 9 10 11 12]]\n",
            "x column 1:  [ 2  6 10]\n",
            "x row 0:  [1 2 3 4]\n",
            "x rows 0,1 & cols 1,2: \n",
            " [[2 3]\n",
            " [6 7]]\n"
          ]
        }
      ],
      "source": [
        "# Slicing\n",
        "x = np.array([[1,2,3,4], [5,6,7,8], [9,10,11,12]])\n",
        "print (x)\n",
        "print (\"x column 1: \", x[:, 1]) \n",
        "print (\"x row 0: \", x[0, :]) \n",
        "print (\"x rows 0,1 & cols 1,2: \\n\", x[0:2, 1:3]) "
      ]
    },
    {
      "cell_type": "code",
      "execution_count": null,
      "metadata": {
        "id": "eG2gTS6QM0Yz",
        "outputId": "47124ece-aa6f-4a8c-baaa-5d767c7e9c5d"
      },
      "outputs": [
        {
          "name": "stdout",
          "output_type": "stream",
          "text": [
            "[[ 1  2  3  4]\n",
            " [ 5  6  7  8]\n",
            " [ 9 10 11 12]]\n",
            "rows_to_get:  [0 1 2]\n",
            "cols_to_get:  [0 2 1]\n",
            "indexed values:  [ 1  7 10]\n"
          ]
        }
      ],
      "source": [
        "# Integer array indexing\n",
        "print (x)\n",
        "rows_to_get = np.array([0, 1, 2])\n",
        "print (\"rows_to_get: \", rows_to_get)\n",
        "cols_to_get = np.array([0, 2, 1])\n",
        "print (\"cols_to_get: \", cols_to_get)\n",
        "# Combine sequences above to get values to get\n",
        "print (\"indexed values: \", x[rows_to_get, cols_to_get]) # (0, 0), (1, 2), (2, 1)"
      ]
    },
    {
      "cell_type": "code",
      "execution_count": null,
      "metadata": {
        "id": "6CkNf5BSM0Y0",
        "outputId": "84220274-3993-4479-be1d-16c557da9e64"
      },
      "outputs": [
        {
          "name": "stdout",
          "output_type": "stream",
          "text": [
            "x:\n",
            " [[1 2]\n",
            " [3 4]\n",
            " [5 6]]\n",
            "x > 2:\n",
            " [[False False]\n",
            " [ True  True]\n",
            " [ True  True]]\n",
            "x[x > 2]:\n",
            " [3 4 5 6]\n"
          ]
        }
      ],
      "source": [
        "# Boolean array indexing\n",
        "\n",
        "x = np.array([[1, 2], [3, 4], [5, 6]])\n",
        "\n",
        "print (\"x:\\n\", x)\n",
        "print (\"x > 2:\\n\", x > 2)\n",
        "print (\"x[x > 2]:\\n\", x[x > 2])"
      ]
    },
    {
      "cell_type": "code",
      "execution_count": null,
      "metadata": {
        "id": "-cxeQfvoM0Y0",
        "outputId": "6bfba709-8bf3-4207-b97e-57d97b3d0baf"
      },
      "outputs": [
        {
          "name": "stdout",
          "output_type": "stream",
          "text": [
            "x + y:\n",
            " [[2. 4.]\n",
            " [6. 8.]]\n",
            "[[2. 4.]\n",
            " [6. 8.]]\n",
            "x - y:\n",
            " [[0. 0.]\n",
            " [0. 0.]]\n",
            "x * y:\n",
            " [[ 1.  4.]\n",
            " [ 9. 16.]]\n"
          ]
        },
        {
          "data": {
            "text/plain": [
              "array([[ 1.,  4.],\n",
              "       [ 9., 16.]])"
            ]
          },
          "execution_count": 63,
          "metadata": {},
          "output_type": "execute_result"
        }
      ],
      "source": [
        "# Basic math\n",
        "x = np.array([[1,2], [3,4]], dtype=np.float64)\n",
        "y = np.array([[1,2], [3,4]], dtype=np.float64)\n",
        "print (\"x + y:\\n\", np.add(x, y)) # or \n",
        "print(x + y)\n",
        "print (\"x - y:\\n\", np.subtract(x, y)) # or x - y\n",
        "print (\"x * y:\\n\", np.multiply(x, y)) # or \n",
        "x * y\n"
      ]
    },
    {
      "cell_type": "code",
      "execution_count": null,
      "metadata": {
        "id": "NNNHctmeM0Y0",
        "outputId": "58be2943-e7d3-419b-9ea8-44fe28c80d5a"
      },
      "outputs": [
        {
          "name": "stdout",
          "output_type": "stream",
          "text": [
            "(2, 3) · (3, 2) = (2, 2)\n",
            "[[ 58.  64.]\n",
            " [139. 154.]]\n"
          ]
        }
      ],
      "source": [
        "# Dot product\n",
        "a = np.array([[1,2,3], [4,5,6]], dtype=np.float64) # we can specify dtype\n",
        "b = np.array([[7,8], [9,10], [11, 12]], dtype=np.float64)\n",
        "c = a.dot(b)\n",
        "print (f\"{a.shape} · {b.shape} = {c.shape}\")\n",
        "print (c)"
      ]
    },
    {
      "cell_type": "markdown",
      "metadata": {
        "id": "YWVCI4UxM0Y1"
      },
      "source": [
        "维度操作"
      ]
    },
    {
      "cell_type": "code",
      "execution_count": null,
      "metadata": {
        "id": "xur4aM-ZM0Y1",
        "outputId": "d90d40f8-bc83-4bfb-83c9-d827dcac4757"
      },
      "outputs": [
        {
          "name": "stdout",
          "output_type": "stream",
          "text": [
            "[[1 2 3]\n",
            " [4 5 6]]\n",
            "sum all:  21\n",
            "sum axis=0:  [5 7 9]\n",
            "sum axis=1:  [ 6 15]\n"
          ]
        }
      ],
      "source": [
        "# Sum across a dimension\n",
        "x = np.array([[1,2,3],[4,5,6]])\n",
        "print (x)\n",
        "print (\"sum all: \", np.sum(x)) # adds all elements\n",
        "print (\"sum axis=0: \", np.sum(x, axis=0)) # sum across rows\n",
        "print (\"sum axis=1: \", np.sum(x, axis=1)) # sum across columns"
      ]
    },
    {
      "cell_type": "code",
      "execution_count": null,
      "metadata": {
        "id": "c7BkifK8M0Y1",
        "outputId": "d4cb59cf-4b68-4b3d-cb26-5c85e6506078"
      },
      "outputs": [
        {
          "name": "stdout",
          "output_type": "stream",
          "text": [
            "min:  1\n",
            "max:  6\n",
            "min axis=0:  [1 2 3]\n",
            "min axis=1:  [1 4]\n"
          ]
        }
      ],
      "source": [
        "# Min/max\n",
        "x = np.array([[1,2,3], [4,5,6]])\n",
        "print (\"min: \", x.min())\n",
        "print (\"max: \", x.max())\n",
        "print (\"min axis=0: \", x.min(axis=0))\n",
        "print (\"min axis=1: \", x.min(axis=1))"
      ]
    },
    {
      "cell_type": "code",
      "execution_count": null,
      "metadata": {
        "id": "NTfa126RM0Y1",
        "outputId": "cb43e549-4b00-4581-9696-fe1e72cc0ffe"
      },
      "outputs": [
        {
          "data": {
            "text/plain": [
              "array([[0.59462478, 0.53331016],\n",
              "       [0.04332406, 0.56143308],\n",
              "       [0.32966845, 0.50296683],\n",
              "       [0.11189432, 0.60719371],\n",
              "       [0.56594464, 0.00676406]])"
            ]
          },
          "execution_count": 47,
          "metadata": {},
          "output_type": "execute_result"
        }
      ],
      "source": [
        "\n",
        "x = np.random.random((5,2))\n",
        "\n",
        "x"
      ]
    },
    {
      "cell_type": "code",
      "execution_count": null,
      "metadata": {
        "id": "g_qpUUX6M0Y1",
        "outputId": "dcd1a546-86da-40fb-b1d2-3c28a6b5098f"
      },
      "outputs": [
        {
          "data": {
            "text/plain": [
              "array([0, 1, 1, 1, 0])"
            ]
          },
          "execution_count": 48,
          "metadata": {},
          "output_type": "execute_result"
        }
      ],
      "source": [
        "preds = x.argmax(axis=1)\n",
        "# true_label\n"
      ]
    },
    {
      "cell_type": "markdown",
      "metadata": {
        "id": "IV7cbsPTM0Y2"
      },
      "source": [
        "## pandas\n",
        "\n",
        "Pandas 一个强大的分析结构化数据的工具集，基础是 Numpy（提供高性能的矩阵运算）。\n",
        "\n",
        "Pandas 可以从各种文件格式比如 CSV、JSON、SQL、Microsoft Excel 导入数据。"
      ]
    },
    {
      "cell_type": "code",
      "execution_count": null,
      "metadata": {
        "id": "HDFEIPKuM0Y2"
      },
      "outputs": [],
      "source": [
        "import numpy as np\n",
        "import pandas as pd"
      ]
    },
    {
      "cell_type": "code",
      "execution_count": null,
      "metadata": {
        "id": "gwfZNBRfM0Y2"
      },
      "outputs": [],
      "source": [
        "df = pd.read_csv('train_data_public.csv', encoding='utf-8',header=0)"
      ]
    },
    {
      "cell_type": "code",
      "execution_count": null,
      "metadata": {
        "id": "21L7VVqVM0Y2",
        "outputId": "605d319e-e282-41e6-fa1a-494c9bee0752"
      },
      "outputs": [
        {
          "data": {
            "text/html": [
              "<div>\n",
              "<style scoped>\n",
              "    .dataframe tbody tr th:only-of-type {\n",
              "        vertical-align: middle;\n",
              "    }\n",
              "\n",
              "    .dataframe tbody tr th {\n",
              "        vertical-align: top;\n",
              "    }\n",
              "\n",
              "    .dataframe thead th {\n",
              "        text-align: right;\n",
              "    }\n",
              "</style>\n",
              "<table border=\"1\" class=\"dataframe\">\n",
              "  <thead>\n",
              "    <tr style=\"text-align: right;\">\n",
              "      <th></th>\n",
              "      <th>id</th>\n",
              "      <th>text</th>\n",
              "      <th>BIO_anno</th>\n",
              "      <th>class</th>\n",
              "    </tr>\n",
              "  </thead>\n",
              "  <tbody>\n",
              "    <tr>\n",
              "      <th>0</th>\n",
              "      <td>0</td>\n",
              "      <td>交行14年用过，半年准备提额，却直接被降到1Ｋ，半年期间只T过一次三千，其它全部真实消费，第...</td>\n",
              "      <td>B-BANK I-BANK O O O O O O O O O O B-COMMENTS_N...</td>\n",
              "      <td>0</td>\n",
              "    </tr>\n",
              "    <tr>\n",
              "      <th>1</th>\n",
              "      <td>1</td>\n",
              "      <td>单标我有了，最近visa双标返现活动好</td>\n",
              "      <td>B-PRODUCT I-PRODUCT O O O O O O B-PRODUCT I-PR...</td>\n",
              "      <td>1</td>\n",
              "    </tr>\n",
              "    <tr>\n",
              "      <th>2</th>\n",
              "      <td>2</td>\n",
              "      <td>建设银行提额很慢的……</td>\n",
              "      <td>B-BANK I-BANK I-BANK I-BANK B-COMMENTS_N I-COM...</td>\n",
              "      <td>0</td>\n",
              "    </tr>\n",
              "    <tr>\n",
              "      <th>3</th>\n",
              "      <td>3</td>\n",
              "      <td>我的怎么显示0.25费率，而且不管分多少期都一样费率，可惜只有69k</td>\n",
              "      <td>O O O O O O O O O O B-COMMENTS_N I-COMMENTS_N ...</td>\n",
              "      <td>2</td>\n",
              "    </tr>\n",
              "    <tr>\n",
              "      <th>4</th>\n",
              "      <td>4</td>\n",
              "      <td>利率不错，可以撸</td>\n",
              "      <td>B-COMMENTS_N I-COMMENTS_N B-COMMENTS_ADJ I-COM...</td>\n",
              "      <td>1</td>\n",
              "    </tr>\n",
              "  </tbody>\n",
              "</table>\n",
              "</div>"
            ],
            "text/plain": [
              "   id                                               text  \\\n",
              "0   0  交行14年用过，半年准备提额，却直接被降到1Ｋ，半年期间只T过一次三千，其它全部真实消费，第...   \n",
              "1   1                                单标我有了，最近visa双标返现活动好   \n",
              "2   2                                        建设银行提额很慢的……   \n",
              "3   3                 我的怎么显示0.25费率，而且不管分多少期都一样费率，可惜只有69k   \n",
              "4   4                                           利率不错，可以撸   \n",
              "\n",
              "                                            BIO_anno  class  \n",
              "0  B-BANK I-BANK O O O O O O O O O O B-COMMENTS_N...      0  \n",
              "1  B-PRODUCT I-PRODUCT O O O O O O B-PRODUCT I-PR...      1  \n",
              "2  B-BANK I-BANK I-BANK I-BANK B-COMMENTS_N I-COM...      0  \n",
              "3  O O O O O O O O O O B-COMMENTS_N I-COMMENTS_N ...      2  \n",
              "4  B-COMMENTS_N I-COMMENTS_N B-COMMENTS_ADJ I-COM...      1  "
            ]
          },
          "execution_count": 31,
          "metadata": {},
          "output_type": "execute_result"
        }
      ],
      "source": [
        "df.head()"
      ]
    },
    {
      "cell_type": "code",
      "execution_count": null,
      "metadata": {
        "id": "30xRV0f4M0Y2",
        "outputId": "2f81662b-d5c4-4639-d0f7-eff6c9641f6f"
      },
      "outputs": [
        {
          "name": "stdout",
          "output_type": "stream",
          "text": [
            "<class 'pandas.core.frame.DataFrame'> <class 'pandas.core.series.Series'>\n"
          ]
        }
      ],
      "source": [
        "print(type(df),type(df['text']))"
      ]
    },
    {
      "cell_type": "code",
      "execution_count": null,
      "metadata": {
        "id": "SvAxduK8M0Y2"
      },
      "outputs": [],
      "source": [
        "df['append'] = pd.Series(['append']*(len(df)//2))\n",
        "# d = {'2':3}\n",
        "# d['3']=4"
      ]
    },
    {
      "cell_type": "code",
      "execution_count": null,
      "metadata": {
        "id": "PGVpuok3M0Y2",
        "outputId": "718cc505-c8c3-47b6-91a8-6d30d1561fb0"
      },
      "outputs": [
        {
          "data": {
            "text/html": [
              "<div>\n",
              "<style scoped>\n",
              "    .dataframe tbody tr th:only-of-type {\n",
              "        vertical-align: middle;\n",
              "    }\n",
              "\n",
              "    .dataframe tbody tr th {\n",
              "        vertical-align: top;\n",
              "    }\n",
              "\n",
              "    .dataframe thead th {\n",
              "        text-align: right;\n",
              "    }\n",
              "</style>\n",
              "<table border=\"1\" class=\"dataframe\">\n",
              "  <thead>\n",
              "    <tr style=\"text-align: right;\">\n",
              "      <th></th>\n",
              "      <th>id</th>\n",
              "      <th>text</th>\n",
              "      <th>BIO_anno</th>\n",
              "      <th>class</th>\n",
              "      <th>append</th>\n",
              "    </tr>\n",
              "  </thead>\n",
              "  <tbody>\n",
              "    <tr>\n",
              "      <th>0</th>\n",
              "      <td>0</td>\n",
              "      <td>交行14年用过，半年准备提额，却直接被降到1Ｋ，半年期间只T过一次三千，其它全部真实消费，第...</td>\n",
              "      <td>B-BANK I-BANK O O O O O O O O O O B-COMMENTS_N...</td>\n",
              "      <td>0</td>\n",
              "      <td>append</td>\n",
              "    </tr>\n",
              "    <tr>\n",
              "      <th>1</th>\n",
              "      <td>1</td>\n",
              "      <td>单标我有了，最近visa双标返现活动好</td>\n",
              "      <td>B-PRODUCT I-PRODUCT O O O O O O B-PRODUCT I-PR...</td>\n",
              "      <td>1</td>\n",
              "      <td>append</td>\n",
              "    </tr>\n",
              "    <tr>\n",
              "      <th>2</th>\n",
              "      <td>2</td>\n",
              "      <td>建设银行提额很慢的……</td>\n",
              "      <td>B-BANK I-BANK I-BANK I-BANK B-COMMENTS_N I-COM...</td>\n",
              "      <td>0</td>\n",
              "      <td>append</td>\n",
              "    </tr>\n",
              "    <tr>\n",
              "      <th>3</th>\n",
              "      <td>3</td>\n",
              "      <td>我的怎么显示0.25费率，而且不管分多少期都一样费率，可惜只有69k</td>\n",
              "      <td>O O O O O O O O O O B-COMMENTS_N I-COMMENTS_N ...</td>\n",
              "      <td>2</td>\n",
              "      <td>append</td>\n",
              "    </tr>\n",
              "    <tr>\n",
              "      <th>4</th>\n",
              "      <td>4</td>\n",
              "      <td>利率不错，可以撸</td>\n",
              "      <td>B-COMMENTS_N I-COMMENTS_N B-COMMENTS_ADJ I-COM...</td>\n",
              "      <td>1</td>\n",
              "      <td>append</td>\n",
              "    </tr>\n",
              "  </tbody>\n",
              "</table>\n",
              "</div>"
            ],
            "text/plain": [
              "   id                                               text  \\\n",
              "0   0  交行14年用过，半年准备提额，却直接被降到1Ｋ，半年期间只T过一次三千，其它全部真实消费，第...   \n",
              "1   1                                单标我有了，最近visa双标返现活动好   \n",
              "2   2                                        建设银行提额很慢的……   \n",
              "3   3                 我的怎么显示0.25费率，而且不管分多少期都一样费率，可惜只有69k   \n",
              "4   4                                           利率不错，可以撸   \n",
              "\n",
              "                                            BIO_anno  class  append  \n",
              "0  B-BANK I-BANK O O O O O O O O O O B-COMMENTS_N...      0  append  \n",
              "1  B-PRODUCT I-PRODUCT O O O O O O B-PRODUCT I-PR...      1  append  \n",
              "2  B-BANK I-BANK I-BANK I-BANK B-COMMENTS_N I-COM...      0  append  \n",
              "3  O O O O O O O O O O B-COMMENTS_N I-COMMENTS_N ...      2  append  \n",
              "4  B-COMMENTS_N I-COMMENTS_N B-COMMENTS_ADJ I-COM...      1  append  "
            ]
          },
          "execution_count": 65,
          "metadata": {},
          "output_type": "execute_result"
        }
      ],
      "source": [
        "df.head()"
      ]
    },
    {
      "cell_type": "code",
      "execution_count": null,
      "metadata": {
        "id": "D6OvyMqLM0Y3"
      },
      "outputs": [],
      "source": [
        "df = df.fillna('filled_text')"
      ]
    },
    {
      "cell_type": "markdown",
      "metadata": {
        "id": "WPQ_JS0RXkRc"
      },
      "source": [
        "# Filtering"
      ]
    },
    {
      "cell_type": "code",
      "execution_count": null,
      "metadata": {
        "colab": {
          "base_uri": "https://localhost:8080/",
          "height": 119
        },
        "id": "BG1IMeV_hrqV",
        "outputId": "89ba573a-4e47-4ff1-8040-54e21319f0fc"
      },
      "outputs": [
        {
          "data": {
            "text/plain": [
              "0    B-BANK I-BANK O O O O O O O O O O B-COMMENTS_N...\n",
              "1    B-PRODUCT I-PRODUCT O O O O O O B-PRODUCT I-PR...\n",
              "2    B-BANK I-BANK I-BANK I-BANK B-COMMENTS_N I-COM...\n",
              "3    O O O O O O O O O O B-COMMENTS_N I-COMMENTS_N ...\n",
              "4    B-COMMENTS_N I-COMMENTS_N B-COMMENTS_ADJ I-COM...\n",
              "Name: BIO_anno, dtype: object"
            ]
          },
          "execution_count": 37,
          "metadata": {},
          "output_type": "execute_result"
        }
      ],
      "source": [
        "# Selecting data by feature\n",
        "df['BIO_anno'].head()\n",
        "# print(type())"
      ]
    },
    {
      "cell_type": "code",
      "execution_count": null,
      "metadata": {
        "colab": {
          "base_uri": "https://localhost:8080/",
          "height": 204
        },
        "id": "wPrRGLDtiZSp",
        "outputId": "58049932-1350-4176-8191-c5f15f840fa8"
      },
      "outputs": [
        {
          "data": {
            "text/html": [
              "<div>\n",
              "<style scoped>\n",
              "    .dataframe tbody tr th:only-of-type {\n",
              "        vertical-align: middle;\n",
              "    }\n",
              "\n",
              "    .dataframe tbody tr th {\n",
              "        vertical-align: top;\n",
              "    }\n",
              "\n",
              "    .dataframe thead th {\n",
              "        text-align: right;\n",
              "    }\n",
              "</style>\n",
              "<table border=\"1\" class=\"dataframe\">\n",
              "  <thead>\n",
              "    <tr style=\"text-align: right;\">\n",
              "      <th></th>\n",
              "      <th>id</th>\n",
              "      <th>text</th>\n",
              "      <th>BIO_anno</th>\n",
              "      <th>class</th>\n",
              "      <th>append</th>\n",
              "    </tr>\n",
              "  </thead>\n",
              "  <tbody>\n",
              "    <tr>\n",
              "      <th>0</th>\n",
              "      <td>0</td>\n",
              "      <td>交行14年用过，半年准备提额，却直接被降到1Ｋ，半年期间只T过一次三千，其它全部真实消费，第...</td>\n",
              "      <td>B-BANK I-BANK O O O O O O O O O O B-COMMENTS_N...</td>\n",
              "      <td>0</td>\n",
              "      <td>append</td>\n",
              "    </tr>\n",
              "    <tr>\n",
              "      <th>2</th>\n",
              "      <td>2</td>\n",
              "      <td>建设银行提额很慢的……</td>\n",
              "      <td>B-BANK I-BANK I-BANK I-BANK B-COMMENTS_N I-COM...</td>\n",
              "      <td>0</td>\n",
              "      <td>append</td>\n",
              "    </tr>\n",
              "    <tr>\n",
              "      <th>7</th>\n",
              "      <td>7</td>\n",
              "      <td>羡慕，可能上个月申请多了。上月连续下了浦发广发华夏交通。这个月申请建行，农业??邮储各种秒拒...</td>\n",
              "      <td>O O O O O O O O O O O O O O O O O O O B-BANK I...</td>\n",
              "      <td>0</td>\n",
              "      <td>append</td>\n",
              "    </tr>\n",
              "    <tr>\n",
              "      <th>8</th>\n",
              "      <td>8</td>\n",
              "      <td>这个短债只是用来提升信誉刷建行预审批的，又不是什么赚钱的基金。也只有建行有卖，我买过，不但不...</td>\n",
              "      <td>O O B-PRODUCT I-PRODUCT O O O O B-COMMENTS_ADJ...</td>\n",
              "      <td>0</td>\n",
              "      <td>append</td>\n",
              "    </tr>\n",
              "    <tr>\n",
              "      <th>10</th>\n",
              "      <td>10</td>\n",
              "      <td>这几天也接到了建行的分期电话，让我1.6分12期，跟他说5000，3期，意思意思。快两年了还...</td>\n",
              "      <td>O O O O O O O B-BANK I-BANK O B-PRODUCT I-PROD...</td>\n",
              "      <td>0</td>\n",
              "      <td>append</td>\n",
              "    </tr>\n",
              "  </tbody>\n",
              "</table>\n",
              "</div>"
            ],
            "text/plain": [
              "    id                                               text  \\\n",
              "0    0  交行14年用过，半年准备提额，却直接被降到1Ｋ，半年期间只T过一次三千，其它全部真实消费，第...   \n",
              "2    2                                        建设银行提额很慢的……   \n",
              "7    7  羡慕，可能上个月申请多了。上月连续下了浦发广发华夏交通。这个月申请建行，农业??邮储各种秒拒...   \n",
              "8    8  这个短债只是用来提升信誉刷建行预审批的，又不是什么赚钱的基金。也只有建行有卖，我买过，不但不...   \n",
              "10  10  这几天也接到了建行的分期电话，让我1.6分12期，跟他说5000，3期，意思意思。快两年了还...   \n",
              "\n",
              "                                             BIO_anno  class  append  \n",
              "0   B-BANK I-BANK O O O O O O O O O O B-COMMENTS_N...      0  append  \n",
              "2   B-BANK I-BANK I-BANK I-BANK B-COMMENTS_N I-COM...      0  append  \n",
              "7   O O O O O O O O O O O O O O O O O O O B-BANK I...      0  append  \n",
              "8   O O B-PRODUCT I-PRODUCT O O O O B-COMMENTS_ADJ...      0  append  \n",
              "10  O O O O O O O B-BANK I-BANK O B-PRODUCT I-PROD...      0  append  "
            ]
          },
          "execution_count": 38,
          "metadata": {},
          "output_type": "execute_result"
        }
      ],
      "source": [
        "# Filtering\n",
        "df[ df['class']==0 ].head() # only the neural data extracted"
      ]
    },
    {
      "cell_type": "code",
      "execution_count": null,
      "metadata": {
        "id": "6A2RHpt0M0Y4",
        "outputId": "ec9c34a5-7763-4ade-c20d-89f9f27993e6"
      },
      "outputs": [
        {
          "data": {
            "text/html": [
              "<div>\n",
              "<style scoped>\n",
              "    .dataframe tbody tr th:only-of-type {\n",
              "        vertical-align: middle;\n",
              "    }\n",
              "\n",
              "    .dataframe tbody tr th {\n",
              "        vertical-align: top;\n",
              "    }\n",
              "\n",
              "    .dataframe thead th {\n",
              "        text-align: right;\n",
              "    }\n",
              "</style>\n",
              "<table border=\"1\" class=\"dataframe\">\n",
              "  <thead>\n",
              "    <tr style=\"text-align: right;\">\n",
              "      <th></th>\n",
              "      <th>id</th>\n",
              "      <th>text</th>\n",
              "      <th>BIO_anno</th>\n",
              "      <th>class</th>\n",
              "      <th>append</th>\n",
              "    </tr>\n",
              "  </thead>\n",
              "  <tbody>\n",
              "    <tr>\n",
              "      <th>3764</th>\n",
              "      <td>3764</td>\n",
              "      <td>我没U盾可以加新卡啊，验证码就行</td>\n",
              "      <td>O O B-PRODUCT I-PRODUCT O O O O O O O O O O O O</td>\n",
              "      <td>2</td>\n",
              "      <td>filled_text</td>\n",
              "    </tr>\n",
              "    <tr>\n",
              "      <th>3765</th>\n",
              "      <td>3765</td>\n",
              "      <td>啊，这段时间说我名下没有可手动调额的卡。就是因为这个没有U盾？</td>\n",
              "      <td>O O O O O O O O O O O O O O O O O O O O O O O ...</td>\n",
              "      <td>2</td>\n",
              "      <td>filled_text</td>\n",
              "    </tr>\n",
              "    <tr>\n",
              "      <th>3766</th>\n",
              "      <td>3766</td>\n",
              "      <td>工行农行招行盾在手??其他没得了</td>\n",
              "      <td>B-BANK I-BANK B-BANK I-BANK B-BANK I-BANK B-PR...</td>\n",
              "      <td>2</td>\n",
              "      <td>filled_text</td>\n",
              "    </tr>\n",
              "    <tr>\n",
              "      <th>3767</th>\n",
              "      <td>3767</td>\n",
              "      <td>就是柜员或网点的个人行为吧；我要盾没用，去办卡说盾就给了，也没要钱，我同事密码器已不够用了，...</td>\n",
              "      <td>O O O O O O O O O O O O O O O O O O O O O O O ...</td>\n",
              "      <td>2</td>\n",
              "      <td>filled_text</td>\n",
              "    </tr>\n",
              "    <tr>\n",
              "      <th>3768</th>\n",
              "      <td>3768</td>\n",
              "      <td>一个月转转限额100万，去补个盾还没有，真是店大欺客，废了以后改用招商方便，服务也好</td>\n",
              "      <td>O O O O O O O O O O O O O O O O O O O O B-COMM...</td>\n",
              "      <td>0</td>\n",
              "      <td>filled_text</td>\n",
              "    </tr>\n",
              "  </tbody>\n",
              "</table>\n",
              "</div>"
            ],
            "text/plain": [
              "        id                                               text  \\\n",
              "3764  3764                                   我没U盾可以加新卡啊，验证码就行   \n",
              "3765  3765                    啊，这段时间说我名下没有可手动调额的卡。就是因为这个没有U盾？   \n",
              "3766  3766                                   工行农行招行盾在手??其他没得了   \n",
              "3767  3767  就是柜员或网点的个人行为吧；我要盾没用，去办卡说盾就给了，也没要钱，我同事密码器已不够用了，...   \n",
              "3768  3768         一个月转转限额100万，去补个盾还没有，真是店大欺客，废了以后改用招商方便，服务也好   \n",
              "\n",
              "                                               BIO_anno  class       append  \n",
              "3764    O O B-PRODUCT I-PRODUCT O O O O O O O O O O O O      2  filled_text  \n",
              "3765  O O O O O O O O O O O O O O O O O O O O O O O ...      2  filled_text  \n",
              "3766  B-BANK I-BANK B-BANK I-BANK B-BANK I-BANK B-PR...      2  filled_text  \n",
              "3767  O O O O O O O O O O O O O O O O O O O O O O O ...      2  filled_text  \n",
              "3768  O O O O O O O O O O O O O O O O O O O O B-COMM...      0  filled_text  "
            ]
          },
          "execution_count": 41,
          "metadata": {},
          "output_type": "execute_result"
        }
      ],
      "source": [
        "df[ df['append'] != 'append' ].head()"
      ]
    },
    {
      "cell_type": "markdown",
      "metadata": {
        "id": "N_rwgfrFGTne"
      },
      "source": [
        "# Save data"
      ]
    },
    {
      "cell_type": "code",
      "execution_count": null,
      "metadata": {
        "id": "rNNxA7Vrp2fC"
      },
      "outputs": [],
      "source": [
        "# Saving dataframe to CSV\n",
        "#,\n",
        "df.to_csv('preprocessed_train.csv', sep=\",\",index=False)"
      ]
    }
  ],
  "metadata": {
    "interpreter": {
      "hash": "a688c3ef212c52645c9ff656b5594f99ee04b2b95fea6280897edfaa3b2dd7a5"
    },
    "kernelspec": {
      "display_name": "pytorch",
      "language": "python",
      "name": "python3"
    },
    "language_info": {
      "codemirror_mode": {
        "name": "ipython",
        "version": 3
      },
      "file_extension": ".py",
      "mimetype": "text/x-python",
      "name": "python",
      "nbconvert_exporter": "python",
      "pygments_lexer": "ipython3",
      "version": "3.8.5"
    },
    "colab": {
      "name": "1.0 python_fund.ipynb",
      "provenance": [],
      "include_colab_link": true
    }
  },
  "nbformat": 4,
  "nbformat_minor": 0
}