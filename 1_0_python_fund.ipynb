{
  "cells": [
    {
      "cell_type": "markdown",
      "metadata": {
        "id": "view-in-github",
        "colab_type": "text"
      },
      "source": [
        "<a href=\"https://colab.research.google.com/github/XuRui314/HITSZ_2022_NLP_Project/blob/main/1_0_python_fund.ipynb\" target=\"_parent\"><img src=\"https://colab.research.google.com/assets/colab-badge.svg\" alt=\"Open In Colab\"/></a>"
      ]
    },
    {
      "cell_type": "markdown",
      "metadata": {
        "id": "c75XI4bbM0Ym"
      },
      "source": [
        "### 提纲\n",
        "\n",
        "\n",
        "本次实验课的主要内容有\n",
        "- Python基础，数据处理库：Numpy, Pandas\n",
        "- 简要介绍nltk\n",
        "- 简要介绍gensim\n",
        "- 通过以下三种方法实现一个简单的情感分类器\n",
        "    - ngram特征+朴素贝叶斯\n",
        "    - 情感词典\n",
        "    - 词向量+SVM"
      ]
    },
    {
      "cell_type": "markdown",
      "metadata": {
        "id": "fHmKuwKRM0Yp"
      },
      "source": [
        "###Python的对象类型\n",
        "\n",
        "不可变类型：数字类型, 字符串, turples; \n",
        "\n",
        "\n",
        "可变类型： list, dictionary;\n"
      ]
    },
    {
      "cell_type": "markdown",
      "source": [
        "这部分也可以在这个[link](https://pythontutor.com/visualize.html#mode=display)可视化理解"
      ],
      "metadata": {
        "id": "wGDQpStPYD0M"
      }
    },
    {
      "cell_type": "code",
      "execution_count": null,
      "metadata": {
        "colab": {
          "base_uri": "https://localhost:8080/"
        },
        "id": "trBlcLTvM0Yp",
        "outputId": "99a92215-b95f-4827-8f4c-9eb4d8f42ef5"
      },
      "outputs": [
        {
          "output_type": "stream",
          "name": "stdout",
          "text": [
            "94498130729504\n",
            "94498130729536\n",
            "94498130729504\n",
            "94498130729536\n"
          ]
        }
      ],
      "source": [
        "a = 2\n",
        "print(id(a))\n",
        "b = 3\n",
        "print(id(b))\n",
        "b = a\n",
        "#数字不可变，赋引用，而不是赋值，a,b指向了同一片内存空间，而不是将值赋到b指向的空间内\n",
        "print(id(b))\n",
        "\n",
        "#同个数字的内存空间是相同的\n",
        "c = 3\n",
        "print(id(c))\n",
        "\n",
        "#turples, string类似\n"
      ]
    },
    {
      "cell_type": "code",
      "execution_count": null,
      "metadata": {
        "id": "_hLmbmRRM0Yq",
        "outputId": "060d3972-1141-4e91-8e71-8de268e45c0c"
      },
      "outputs": [
        {
          "name": "stdout",
          "output_type": "stream",
          "text": [
            "1\n"
          ]
        },
        {
          "ename": "TypeError",
          "evalue": "'str' object does not support item assignment",
          "output_type": "error",
          "traceback": [
            "\u001b[0;31m---------------------------------------------------------------------------\u001b[0m",
            "\u001b[0;31mTypeError\u001b[0m                                 Traceback (most recent call last)",
            "\u001b[0;32m/tmp/ipykernel_7038/2939837318.py\u001b[0m in \u001b[0;36m<module>\u001b[0;34m\u001b[0m\n\u001b[1;32m      1\u001b[0m \u001b[0ms\u001b[0m \u001b[0;34m=\u001b[0m \u001b[0;34m'1234'\u001b[0m\u001b[0;34m\u001b[0m\u001b[0;34m\u001b[0m\u001b[0m\n\u001b[1;32m      2\u001b[0m \u001b[0mprint\u001b[0m\u001b[0;34m(\u001b[0m\u001b[0ms\u001b[0m\u001b[0;34m[\u001b[0m\u001b[0;36m0\u001b[0m\u001b[0;34m]\u001b[0m\u001b[0;34m)\u001b[0m\u001b[0;34m\u001b[0m\u001b[0;34m\u001b[0m\u001b[0m\n\u001b[0;32m----> 3\u001b[0;31m \u001b[0ms\u001b[0m\u001b[0;34m[\u001b[0m\u001b[0;36m0\u001b[0m\u001b[0;34m]\u001b[0m\u001b[0;34m=\u001b[0m\u001b[0;34m'k'\u001b[0m\u001b[0;34m\u001b[0m\u001b[0;34m\u001b[0m\u001b[0m\n\u001b[0m\u001b[1;32m      4\u001b[0m \u001b[0;31m#string不可变，赋值出现错误\u001b[0m\u001b[0;34m\u001b[0m\u001b[0;34m\u001b[0m\u001b[0;34m\u001b[0m\u001b[0m\n",
            "\u001b[0;31mTypeError\u001b[0m: 'str' object does not support item assignment"
          ]
        }
      ],
      "source": [
        "s = '1234'\n",
        "print(s[0])\n",
        "s[0]='k'\n",
        "#string不可变，赋值出现错误"
      ]
    },
    {
      "cell_type": "markdown",
      "metadata": {
        "id": "njoOKW04M0Yr"
      },
      "source": [
        "### 列表及切片"
      ]
    },
    {
      "cell_type": "code",
      "execution_count": null,
      "metadata": {
        "colab": {
          "base_uri": "https://localhost:8080/"
        },
        "id": "wYLmMyUfM0Yr",
        "outputId": "75d80b09-d0bf-4945-9e45-663f562c2ff3"
      },
      "outputs": [
        {
          "output_type": "stream",
          "name": "stdout",
          "text": [
            "[1, 2, 3, 4, 5, 6, 7, 8] <class 'list'>\n"
          ]
        }
      ],
      "source": [
        "a = [1,2,3,4,5,6,7,8]\n",
        "\n",
        "print(a,type(a))\n"
      ]
    },
    {
      "cell_type": "code",
      "execution_count": null,
      "metadata": {
        "colab": {
          "base_uri": "https://localhost:8080/"
        },
        "id": "W52fMMV3M0Yr",
        "outputId": "d14a4380-77a7-4e36-f8fe-9cef708e3f06"
      },
      "outputs": [
        {
          "output_type": "execute_result",
          "data": {
            "text/plain": [
              "8"
            ]
          },
          "metadata": {},
          "execution_count": 4
        }
      ],
      "source": [
        "a[-1]"
      ]
    },
    {
      "cell_type": "code",
      "execution_count": null,
      "metadata": {
        "colab": {
          "base_uri": "https://localhost:8080/"
        },
        "id": "7o0Vv4iuM0Ys",
        "outputId": "f86f5ecc-41f4-49a0-8bde-9668855954c4"
      },
      "outputs": [
        {
          "output_type": "stream",
          "name": "stdout",
          "text": [
            "[1, 2, 3, 4, 5, 6, 7, 8]\n",
            "[1, 2, 3, 4, 5, 6, 7]\n",
            "[1, 2, 3]\n"
          ]
        }
      ],
      "source": [
        "print(a[0 : ])\n",
        "#左闭右开\n",
        "print(a[0:-1])\n",
        "print(a[0:3])"
      ]
    },
    {
      "cell_type": "markdown",
      "metadata": {
        "id": "s7d8qJnUM0Ys"
      },
      "source": [
        "### 字典"
      ]
    },
    {
      "cell_type": "code",
      "execution_count": null,
      "metadata": {
        "colab": {
          "base_uri": "https://localhost:8080/"
        },
        "id": "QqvnRc_nM0Ys",
        "outputId": "93239cd5-a2e5-4468-ba52-a47eaec2c3a2"
      },
      "outputs": [
        {
          "output_type": "stream",
          "name": "stdout",
          "text": [
            "dict_keys(['peter', 'tom', 'ketty'])\n",
            "dict_values([2, 4, 6])\n",
            "--------------------\n",
            "peter 2\n",
            "tom 4\n",
            "ketty 6\n",
            "--------------------\n",
            "peter\n",
            "tom\n",
            "ketty\n"
          ]
        }
      ],
      "source": [
        "dic = {'peter':2,'tom':4,'ketty':6}\n",
        "print(dic.keys())\n",
        "print(dic.values())\n",
        "\n",
        "print('--------------------')\n",
        "for k,v in dic.items():\n",
        "    print(k,v)\n",
        "print('--------------------')\n",
        "for k in dic:\n",
        "    print(k)"
      ]
    },
    {
      "cell_type": "markdown",
      "metadata": {
        "id": "PIUCYWTbM0Ys"
      },
      "source": [
        "### 函数"
      ]
    },
    {
      "cell_type": "code",
      "execution_count": null,
      "metadata": {
        "colab": {
          "base_uri": "https://localhost:8080/"
        },
        "id": "g9S2DLT6M0Yt",
        "outputId": "b60062dc-6219-48a9-c46b-e46c504338a3"
      },
      "outputs": [
        {
          "output_type": "stream",
          "name": "stdout",
          "text": [
            "[0, 1, 2, 3, 4, 5, 6, 7, 8, 9]\n"
          ]
        }
      ],
      "source": [
        "def hello(num: int) -> str :\n",
        "    #建议变量类型以及返回值类型\n",
        "    sent_list =  [str(i+1) + ' hello world !\\n' for i in range(num)]\n",
        "    return ''.join(sent_list)\n",
        "    # return 1\n",
        "# for k in range(10):\n",
        "#     print(k)\n",
        "print(list(range(10)))"
      ]
    },
    {
      "cell_type": "code",
      "execution_count": null,
      "metadata": {
        "colab": {
          "base_uri": "https://localhost:8080/"
        },
        "id": "vnjiajNnM0Yt",
        "outputId": "b396f929-12b4-4456-8a62-cfdff4aacde0"
      },
      "outputs": [
        {
          "output_type": "stream",
          "name": "stdout",
          "text": [
            "1 hello world !\n",
            "2 hello world !\n",
            "3 hello world !\n",
            "\n"
          ]
        }
      ],
      "source": [
        "print(hello(num = 3))"
      ]
    },
    {
      "cell_type": "code",
      "execution_count": null,
      "metadata": {
        "colab": {
          "base_uri": "https://localhost:8080/",
          "height": 289
        },
        "id": "i2qiILHGM0Yt",
        "outputId": "47ba8164-ec2e-43a0-c383-43af4017ce32"
      },
      "outputs": [
        {
          "output_type": "error",
          "ename": "TypeError",
          "evalue": "ignored",
          "traceback": [
            "\u001b[0;31m---------------------------------------------------------------------------\u001b[0m",
            "\u001b[0;31mTypeError\u001b[0m                                 Traceback (most recent call last)",
            "\u001b[0;32m<ipython-input-9-c91af0df960c>\u001b[0m in \u001b[0;36m<module>\u001b[0;34m()\u001b[0m\n\u001b[0;32m----> 1\u001b[0;31m \u001b[0mprint\u001b[0m\u001b[0;34m(\u001b[0m\u001b[0mhello\u001b[0m\u001b[0;34m(\u001b[0m\u001b[0;34m'1'\u001b[0m\u001b[0;34m)\u001b[0m\u001b[0;34m)\u001b[0m\u001b[0;34m\u001b[0m\u001b[0;34m\u001b[0m\u001b[0m\n\u001b[0m",
            "\u001b[0;32m<ipython-input-7-d2e4aed03b40>\u001b[0m in \u001b[0;36mhello\u001b[0;34m(num)\u001b[0m\n\u001b[1;32m      1\u001b[0m \u001b[0;32mdef\u001b[0m \u001b[0mhello\u001b[0m\u001b[0;34m(\u001b[0m\u001b[0mnum\u001b[0m\u001b[0;34m:\u001b[0m \u001b[0mint\u001b[0m\u001b[0;34m)\u001b[0m \u001b[0;34m->\u001b[0m \u001b[0mstr\u001b[0m \u001b[0;34m:\u001b[0m\u001b[0;34m\u001b[0m\u001b[0;34m\u001b[0m\u001b[0m\n\u001b[1;32m      2\u001b[0m     \u001b[0;31m#建议变量类型以及返回值类型\u001b[0m\u001b[0;34m\u001b[0m\u001b[0;34m\u001b[0m\u001b[0;34m\u001b[0m\u001b[0m\n\u001b[0;32m----> 3\u001b[0;31m     \u001b[0msent_list\u001b[0m \u001b[0;34m=\u001b[0m  \u001b[0;34m[\u001b[0m\u001b[0mstr\u001b[0m\u001b[0;34m(\u001b[0m\u001b[0mi\u001b[0m\u001b[0;34m+\u001b[0m\u001b[0;36m1\u001b[0m\u001b[0;34m)\u001b[0m \u001b[0;34m+\u001b[0m \u001b[0;34m' hello world !\\n'\u001b[0m \u001b[0;32mfor\u001b[0m \u001b[0mi\u001b[0m \u001b[0;32min\u001b[0m \u001b[0mrange\u001b[0m\u001b[0;34m(\u001b[0m\u001b[0mnum\u001b[0m\u001b[0;34m)\u001b[0m\u001b[0;34m]\u001b[0m\u001b[0;34m\u001b[0m\u001b[0;34m\u001b[0m\u001b[0m\n\u001b[0m\u001b[1;32m      4\u001b[0m     \u001b[0;32mreturn\u001b[0m \u001b[0;34m''\u001b[0m\u001b[0;34m.\u001b[0m\u001b[0mjoin\u001b[0m\u001b[0;34m(\u001b[0m\u001b[0msent_list\u001b[0m\u001b[0;34m)\u001b[0m\u001b[0;34m\u001b[0m\u001b[0;34m\u001b[0m\u001b[0m\n\u001b[1;32m      5\u001b[0m     \u001b[0;31m# return 1\u001b[0m\u001b[0;34m\u001b[0m\u001b[0;34m\u001b[0m\u001b[0;34m\u001b[0m\u001b[0m\n",
            "\u001b[0;31mTypeError\u001b[0m: 'str' object cannot be interpreted as an integer"
          ]
        }
      ],
      "source": [
        "print(hello('1'))"
      ]
    },
    {
      "cell_type": "markdown",
      "metadata": {
        "id": "9MlKONNcM0Yu"
      },
      "source": [
        "在进行参数传递时，对于可变类型和不可变类型传递方式有所不同："
      ]
    },
    {
      "cell_type": "code",
      "execution_count": null,
      "metadata": {
        "colab": {
          "base_uri": "https://localhost:8080/"
        },
        "id": "Nn1rF88qM0Yu",
        "outputId": "6bc64cae-1176-4763-d79c-5114fa6ae116"
      },
      "outputs": [
        {
          "output_type": "stream",
          "name": "stdout",
          "text": [
            "函数内，计算前参数x的地址 94498130729504\n",
            "函数内，计算后参数x的地址 94498130729568\n",
            "4\n",
            "函数外，t的地址 94498130729504\n",
            "2\n"
          ]
        }
      ],
      "source": [
        "def changeInt(x: int) -> int:\n",
        "    \n",
        "    print(\"函数内，计算前参数x的地址\",id(x))\n",
        "\n",
        "    x = x*x\n",
        "    print(\"函数内，计算后参数x的地址\",id(x))\n",
        "\n",
        "    return x\n",
        "\n",
        "t = 2\n",
        "print(changeInt(t))\n",
        "print(\"函数外，t的地址\",id(t))\n",
        "print(t)"
      ]
    },
    {
      "cell_type": "code",
      "execution_count": null,
      "metadata": {
        "colab": {
          "base_uri": "https://localhost:8080/"
        },
        "id": "747WnpPaM0Yu",
        "outputId": "6ef4d752-cb88-467a-a7a1-001ff03c210c"
      },
      "outputs": [
        {
          "output_type": "stream",
          "name": "stdout",
          "text": [
            "函数内，计算前参数x的地址 140034408968832\n",
            "函数内，计算后参数x的地址 140034408968832\n",
            "[0, 2]\n",
            "函数外，t的地址 140034408968832\n",
            "[0, 2]\n"
          ]
        }
      ],
      "source": [
        "def changeInt(x: list)->list:\n",
        "    print(\"函数内，计算前参数x的地址\",id(x))\n",
        "    x[0]=0\n",
        "    print(\"函数内，计算后参数x的地址\",id(x))\n",
        "\n",
        "    return x\n",
        "\n",
        "t = [1,2]\n",
        "print(changeInt(t))\n",
        "print(\"函数外，t的地址\",id(t))\n",
        "print(t)"
      ]
    },
    {
      "cell_type": "code",
      "execution_count": null,
      "metadata": {
        "colab": {
          "base_uri": "https://localhost:8080/"
        },
        "id": "qDtO9RxoM0Yv",
        "outputId": "bf774c90-4206-42b2-91aa-7885056d4a73"
      },
      "outputs": [
        {
          "output_type": "stream",
          "name": "stdout",
          "text": [
            "1\n",
            "元组收集参数 (1, 2, 3, 4)\n",
            "字典收集参数 {'w': 1, 'v': 2}\n",
            "2\n",
            "元组收集参数 ()\n",
            "字典收集参数 {}\n",
            "2\n",
            "元组收集参数 (4,)\n",
            "字典收集参数 {'i': 1, 'j': 2, 'k': 3, 'm': 4}\n"
          ]
        }
      ],
      "source": [
        "#不定长参数\n",
        "def manyArgs(a: int, *wargs, **kwargs):\n",
        "    print(a)\n",
        "    print(\"元组收集参数\",wargs)\n",
        "    print(\"字典收集参数\",kwargs)\n",
        "    # print(w)\n",
        "\n",
        "manyArgs(1, *(1,2,3,4),**{'w':1,'v':2})\n",
        "manyArgs(2)\n",
        "manyArgs(2,4,i=1,j=2,k=3,m=4)\n"
      ]
    },
    {
      "cell_type": "markdown",
      "metadata": {
        "id": "OeoXu5sSM0Yv"
      },
      "source": [
        "### 类"
      ]
    },
    {
      "cell_type": "code",
      "execution_count": null,
      "metadata": {
        "id": "QY6pj3XmM0Yw"
      },
      "outputs": [],
      "source": [
        "class Pet:\n",
        "    def __init__(self, species, name):\n",
        "        self.species = species\n",
        "        self.name = name\n",
        "        print(\"Now you have a {}! (PET)\".format(self.species))\n",
        "\n",
        "    def __str__(self):\n",
        "        return f\"{self.name} is a {self.species}. (PET)\"\n",
        "\n",
        "        \n"
      ]
    },
    {
      "cell_type": "code",
      "execution_count": null,
      "metadata": {
        "colab": {
          "base_uri": "https://localhost:8080/"
        },
        "id": "B46iQyb5M0Yw",
        "outputId": "03c79d1a-d8aa-4eb2-86d5-a84ac9ef755d"
      },
      "outputs": [
        {
          "output_type": "stream",
          "name": "stdout",
          "text": [
            "Now you have a blue cat! (PET)\n",
            "Tom is a blue cat. (PET)\n"
          ]
        }
      ],
      "source": [
        "tom_cat = Pet(\"blue cat\",\"Tom\")\n",
        "\n",
        "print(tom_cat)"
      ]
    },
    {
      "cell_type": "code",
      "execution_count": null,
      "metadata": {
        "id": "3Oxe1oB4M0Yw"
      },
      "outputs": [],
      "source": [
        "class Cat(Pet):\n",
        "    def __init__(self, species, name, color):\n",
        "        \n",
        "        super().__init__(\"Cat\", name)\n",
        "\n",
        "        self.color = color\n",
        "        print(f\"Now you have a {self.color} cat!\")\n",
        "        \n",
        "    def call(self):\n",
        "        print(f\"{self.name} just mewed!\")\n"
      ]
    },
    {
      "cell_type": "code",
      "execution_count": null,
      "metadata": {
        "colab": {
          "base_uri": "https://localhost:8080/"
        },
        "id": "ZSjWBY3EM0Yx",
        "outputId": "5209c7c0-e320-45d7-9bfb-27b3875233fe"
      },
      "outputs": [
        {
          "output_type": "stream",
          "name": "stdout",
          "text": [
            "Now you have a Cat! (PET)\n",
            "Now you have a black cat!\n",
            "tony is a Cat. (PET)\n",
            "tony just mewed!\n"
          ]
        }
      ],
      "source": [
        "tony_cat = Cat(\"cat\", 'tony',\"black\")\n",
        "\n",
        "print(tony_cat)\n",
        "\n",
        "tony_cat.call()"
      ]
    },
    {
      "cell_type": "markdown",
      "metadata": {
        "id": "Ndcdpxj1M0Yx"
      },
      "source": [
        "## numpy\n",
        "支持大量的维度数组与矩阵运算，此外也针对数组运算提供大量的数学函数库。\n",
        "\n"
      ]
    },
    {
      "cell_type": "code",
      "execution_count": null,
      "metadata": {
        "id": "avpxRVirM0Yx"
      },
      "outputs": [],
      "source": [
        "import numpy as np"
      ]
    },
    {
      "cell_type": "code",
      "execution_count": null,
      "metadata": {
        "id": "5HfG-HwWM0Yx"
      },
      "outputs": [],
      "source": [
        "#设置随机种子，如果不设置随机种子会导致结果无法复现\n",
        "np.random.seed(seed=42)\n",
        "\n",
        "#【1,2,3,4】\n",
        "#1 \n",
        "#4\n",
        "#...\n",
        "\n",
        "#1\n",
        "#4\n",
        "#..."
      ]
    },
    {
      "cell_type": "code",
      "execution_count": null,
      "metadata": {
        "colab": {
          "base_uri": "https://localhost:8080/"
        },
        "id": "AaKCdAlGM0Yy",
        "outputId": "598f362d-7a7d-49e2-8689-ed4e5b301428"
      },
      "outputs": [
        {
          "output_type": "stream",
          "name": "stdout",
          "text": [
            "x:  6\n",
            "x ndim:  0\n",
            "x shape: ()\n",
            "x size:  1\n",
            "x dtype:  int64\n"
          ]
        }
      ],
      "source": [
        "# Scalar\n",
        "x = np.array(6) # scalar\n",
        "print (\"x: \", x)\n",
        "# Number of dimensions\n",
        "print (\"x ndim: \", x.ndim)\n",
        "# Dimensions\n",
        "print (\"x shape:\", x.shape)\n",
        "# Size of elements\n",
        "print (\"x size: \", x.size)\n",
        "# Data type\n",
        "print (\"x dtype: \", x.dtype)"
      ]
    },
    {
      "cell_type": "code",
      "execution_count": null,
      "metadata": {
        "colab": {
          "base_uri": "https://localhost:8080/"
        },
        "id": "wnm1JVriM0Yy",
        "outputId": "2bcfe888-f51b-4505-8466-731ce4e5b547"
      },
      "outputs": [
        {
          "output_type": "stream",
          "name": "stdout",
          "text": [
            "x:  [1.3 2.2 1.7]\n",
            "x ndim:  1\n",
            "x shape: (3,)\n",
            "x size:  3\n",
            "x dtype:  float64\n"
          ]
        }
      ],
      "source": [
        "# Vector\n",
        "x = np.array([1.3 , 2.2 , 1.7])\n",
        "print (\"x: \", x)\n",
        "print (\"x ndim: \", x.ndim)\n",
        "print (\"x shape:\", x.shape)\n",
        "print (\"x size: \", x.size)\n",
        "print (\"x dtype: \", x.dtype) # notice the float datatype"
      ]
    },
    {
      "cell_type": "code",
      "execution_count": null,
      "metadata": {
        "colab": {
          "base_uri": "https://localhost:8080/"
        },
        "id": "KH6in9u8M0Yy",
        "outputId": "1b482eb4-d689-44dd-b5b4-a6b0205e602b"
      },
      "outputs": [
        {
          "output_type": "stream",
          "name": "stdout",
          "text": [
            "x:\n",
            " [[1. 2.]\n",
            " [3. 4.]]\n",
            "x ndim:  2\n",
            "x shape: (2, 2)\n",
            "x size:  4\n",
            "x dtype:  float64\n"
          ]
        }
      ],
      "source": [
        "# Matrix\n",
        "x = np.array([[1,2], [3,4]],dtype=float)\n",
        "print (\"x:\\n\", x)\n",
        "print (\"x ndim: \", x.ndim)\n",
        "print (\"x shape:\", x.shape)\n",
        "print (\"x size: \", x.size)\n",
        "print (\"x dtype: \", x.dtype)"
      ]
    },
    {
      "cell_type": "code",
      "execution_count": null,
      "metadata": {
        "colab": {
          "base_uri": "https://localhost:8080/"
        },
        "id": "BuI2XA-DM0Yy",
        "outputId": "3282fe54-ecdf-4c5f-908d-afb1961e3772"
      },
      "outputs": [
        {
          "output_type": "stream",
          "name": "stdout",
          "text": [
            "x:\n",
            " [[[1 2]\n",
            "  [3 4]]\n",
            "\n",
            " [[5 6]\n",
            "  [7 8]]]\n",
            "x ndim:  3\n",
            "x shape: (2, 2, 2)\n",
            "x size:  8\n",
            "x dtype:  int64\n"
          ]
        }
      ],
      "source": [
        "# 3-D Tensor\n",
        "x = np.array([[[1,2],[3,4]],[[5,6],[7,8]]])\n",
        "print (\"x:\\n\", x)\n",
        "print (\"x ndim: \", x.ndim)\n",
        "print (\"x shape:\", x.shape)\n",
        "print (\"x size: \", x.size)\n",
        "print (\"x dtype: \", x.dtype)"
      ]
    },
    {
      "cell_type": "markdown",
      "metadata": {
        "id": "VyWFqC9dM0Yy"
      },
      "source": [
        "一些快速初始化array的函数"
      ]
    },
    {
      "cell_type": "code",
      "execution_count": null,
      "metadata": {
        "colab": {
          "base_uri": "https://localhost:8080/"
        },
        "id": "jJOR3YFtM0Yz",
        "outputId": "b5582827-b353-4f66-8927-603cb9e35bbd"
      },
      "outputs": [
        {
          "output_type": "stream",
          "name": "stdout",
          "text": [
            "np.zeros((2,2)):\n",
            " [[0. 0.]\n",
            " [0. 0.]]\n",
            "np.ones((2,2)):\n",
            " [[1. 1.]\n",
            " [1. 1.]]\n",
            "np.eye((2)):\n",
            " [[1. 0.]\n",
            " [0. 1.]]\n",
            "np.random.random((2,2)):\n",
            " [[0.37454012 0.95071431]\n",
            " [0.73199394 0.59865848]]\n"
          ]
        }
      ],
      "source": [
        "# Functions\n",
        "print (\"np.zeros((2,2)):\\n\", np.zeros( (2,2) ) )\n",
        "print (\"np.ones((2,2)):\\n\", np.ones( (2,2) ))\n",
        "print (\"np.eye((2)):\\n\", np.eye( (2) )) # identity matrix \n",
        "print (\"np.random.random((2,2)):\\n\", np.random.random( (2,2) ))"
      ]
    },
    {
      "cell_type": "code",
      "execution_count": null,
      "metadata": {
        "colab": {
          "base_uri": "https://localhost:8080/"
        },
        "id": "k_pDEvMJM0Yz",
        "outputId": "b4aaa0ef-ae08-4682-8fab-8c091c8965de"
      },
      "outputs": [
        {
          "output_type": "stream",
          "name": "stdout",
          "text": [
            "x:  [1 2 3]\n",
            "x[0]:  1\n",
            "x:  [0 2 3]\n"
          ]
        }
      ],
      "source": [
        "# Indexing\n",
        "x = np.array([1, 2, 3])\n",
        "\n",
        "print (\"x: \", x)\n",
        "print (\"x[0]: \", x[0])\n",
        "x[0] = 0\n",
        "print (\"x: \", x)"
      ]
    },
    {
      "cell_type": "code",
      "execution_count": null,
      "metadata": {
        "colab": {
          "base_uri": "https://localhost:8080/"
        },
        "id": "nv0iIprfM0Yz",
        "outputId": "d66a38c5-740b-4be2-c470-3b1186bfdfc4"
      },
      "outputs": [
        {
          "output_type": "stream",
          "name": "stdout",
          "text": [
            "[[ 1  2  3  4]\n",
            " [ 5  6  7  8]\n",
            " [ 9 10 11 12]]\n",
            "x column 1:  [ 2  6 10]\n",
            "x row 0:  [1 2 3 4]\n",
            "x rows 0,1 & cols 1,2: \n",
            " [[2 3]\n",
            " [6 7]]\n"
          ]
        }
      ],
      "source": [
        "# Slicing\n",
        "x = np.array([[1,2,3,4], [5,6,7,8], [9,10,11,12]])\n",
        "print (x)\n",
        "print (\"x column 1: \", x[:, 1]) \n",
        "print (\"x row 0: \", x[0, :]) \n",
        "print (\"x rows 0,1 & cols 1,2: \\n\", x[0:2, 1:3]) "
      ]
    },
    {
      "cell_type": "code",
      "execution_count": null,
      "metadata": {
        "colab": {
          "base_uri": "https://localhost:8080/"
        },
        "id": "eG2gTS6QM0Yz",
        "outputId": "b13d4579-cac0-4570-c5ce-f0cf95433069"
      },
      "outputs": [
        {
          "output_type": "stream",
          "name": "stdout",
          "text": [
            "[[ 1  2  3  4]\n",
            " [ 5  6  7  8]\n",
            " [ 9 10 11 12]]\n",
            "rows_to_get:  [0 1 2]\n",
            "cols_to_get:  [0 2 1]\n",
            "indexed values:  [ 1  7 10]\n"
          ]
        }
      ],
      "source": [
        "# Integer array indexing\n",
        "print (x)\n",
        "rows_to_get = np.array([0, 1, 2])\n",
        "print (\"rows_to_get: \", rows_to_get)\n",
        "cols_to_get = np.array([0, 2, 1])\n",
        "print (\"cols_to_get: \", cols_to_get)\n",
        "# Combine sequences above to get values to get\n",
        "print (\"indexed values: \", x[rows_to_get, cols_to_get]) # (0, 0), (1, 2), (2, 1)"
      ]
    },
    {
      "cell_type": "code",
      "execution_count": null,
      "metadata": {
        "colab": {
          "base_uri": "https://localhost:8080/"
        },
        "id": "6CkNf5BSM0Y0",
        "outputId": "adf3c666-733e-41b8-f2a0-7751a5020254"
      },
      "outputs": [
        {
          "output_type": "stream",
          "name": "stdout",
          "text": [
            "x:\n",
            " [[1 2]\n",
            " [3 4]\n",
            " [5 6]]\n",
            "x > 2:\n",
            " [[False False]\n",
            " [ True  True]\n",
            " [ True  True]]\n",
            "x[x > 2]:\n",
            " [3 4 5 6]\n"
          ]
        }
      ],
      "source": [
        "# Boolean array indexing\n",
        "\n",
        "x = np.array([[1, 2], [3, 4], [5, 6]])\n",
        "\n",
        "print (\"x:\\n\", x)\n",
        "print (\"x > 2:\\n\", x > 2)\n",
        "print (\"x[x > 2]:\\n\", x[x > 2])"
      ]
    },
    {
      "cell_type": "code",
      "execution_count": null,
      "metadata": {
        "colab": {
          "base_uri": "https://localhost:8080/"
        },
        "id": "-cxeQfvoM0Y0",
        "outputId": "fbd82b0b-b1af-4940-acb0-6cce4070cd21"
      },
      "outputs": [
        {
          "output_type": "stream",
          "name": "stdout",
          "text": [
            "x + y:\n",
            " [[2. 4.]\n",
            " [6. 8.]]\n",
            "[[2. 4.]\n",
            " [6. 8.]]\n",
            "x - y:\n",
            " [[0. 0.]\n",
            " [0. 0.]]\n",
            "x * y:\n",
            " [[ 1.  4.]\n",
            " [ 9. 16.]]\n"
          ]
        },
        {
          "output_type": "execute_result",
          "data": {
            "text/plain": [
              "array([[ 1.,  4.],\n",
              "       [ 9., 16.]])"
            ]
          },
          "metadata": {},
          "execution_count": 28
        }
      ],
      "source": [
        "# Basic math\n",
        "x = np.array([[1,2], [3,4]], dtype=np.float64)\n",
        "y = np.array([[1,2], [3,4]], dtype=np.float64)\n",
        "print (\"x + y:\\n\", np.add(x, y)) # or \n",
        "print(x + y)\n",
        "print (\"x - y:\\n\", np.subtract(x, y)) # or x - y\n",
        "print (\"x * y:\\n\", np.multiply(x, y)) # or \n",
        "x * y\n"
      ]
    },
    {
      "cell_type": "code",
      "execution_count": null,
      "metadata": {
        "colab": {
          "base_uri": "https://localhost:8080/"
        },
        "id": "NNNHctmeM0Y0",
        "outputId": "e7c30dd1-13ae-46f8-e034-cb7fec445081"
      },
      "outputs": [
        {
          "output_type": "stream",
          "name": "stdout",
          "text": [
            "(2, 3) · (3, 2) = (2, 2)\n",
            "[[ 58.  64.]\n",
            " [139. 154.]]\n"
          ]
        }
      ],
      "source": [
        "# Dot product\n",
        "a = np.array([[1,2,3], [4,5,6]], dtype=np.float64) # we can specify dtype\n",
        "b = np.array([[7,8], [9,10], [11, 12]], dtype=np.float64)\n",
        "c = a.dot(b)\n",
        "print (f\"{a.shape} · {b.shape} = {c.shape}\")\n",
        "print (c)"
      ]
    },
    {
      "cell_type": "markdown",
      "metadata": {
        "id": "YWVCI4UxM0Y1"
      },
      "source": [
        "维度操作"
      ]
    },
    {
      "cell_type": "code",
      "execution_count": null,
      "metadata": {
        "colab": {
          "base_uri": "https://localhost:8080/"
        },
        "id": "xur4aM-ZM0Y1",
        "outputId": "34f3978b-ae14-4d28-ec65-b1b6e54ab6a1"
      },
      "outputs": [
        {
          "output_type": "stream",
          "name": "stdout",
          "text": [
            "[[1 2 3]\n",
            " [4 5 6]]\n",
            "sum all:  21\n",
            "sum axis=0:  [5 7 9]\n",
            "sum axis=1:  [ 6 15]\n"
          ]
        }
      ],
      "source": [
        "# Sum across a dimension\n",
        "x = np.array([[1,2,3],[4,5,6]])\n",
        "print (x)\n",
        "print (\"sum all: \", np.sum(x)) # adds all elements\n",
        "print (\"sum axis=0: \", np.sum(x, axis=0)) # sum across rows\n",
        "print (\"sum axis=1: \", np.sum(x, axis=1)) # sum across columns"
      ]
    },
    {
      "cell_type": "code",
      "execution_count": null,
      "metadata": {
        "colab": {
          "base_uri": "https://localhost:8080/"
        },
        "id": "c7BkifK8M0Y1",
        "outputId": "adba1c11-e87b-4d53-a9db-9f3c18579320"
      },
      "outputs": [
        {
          "output_type": "stream",
          "name": "stdout",
          "text": [
            "min:  1\n",
            "max:  6\n",
            "min axis=0:  [1 2 3]\n",
            "min axis=1:  [1 4]\n"
          ]
        }
      ],
      "source": [
        "# Min/max\n",
        "x = np.array([[1,2,3], [4,5,6]])\n",
        "print (\"min: \", x.min())\n",
        "print (\"max: \", x.max())\n",
        "print (\"min axis=0: \", x.min(axis=0))\n",
        "print (\"min axis=1: \", x.min(axis=1))"
      ]
    },
    {
      "cell_type": "code",
      "execution_count": null,
      "metadata": {
        "colab": {
          "base_uri": "https://localhost:8080/"
        },
        "id": "NTfa126RM0Y1",
        "outputId": "2013ef15-b0af-4408-9ff4-0462ccc8a52e"
      },
      "outputs": [
        {
          "output_type": "execute_result",
          "data": {
            "text/plain": [
              "array([[0.15601864, 0.15599452],\n",
              "       [0.05808361, 0.86617615],\n",
              "       [0.60111501, 0.70807258],\n",
              "       [0.02058449, 0.96990985],\n",
              "       [0.83244264, 0.21233911]])"
            ]
          },
          "metadata": {},
          "execution_count": 32
        }
      ],
      "source": [
        "\n",
        "x = np.random.random((5,2))\n",
        "\n",
        "x"
      ]
    },
    {
      "cell_type": "code",
      "execution_count": null,
      "metadata": {
        "id": "g_qpUUX6M0Y1"
      },
      "outputs": [],
      "source": [
        "preds = x.argmax(axis=1)\n",
        "# true_label\n"
      ]
    },
    {
      "cell_type": "markdown",
      "metadata": {
        "id": "IV7cbsPTM0Y2"
      },
      "source": [
        "## pandas\n",
        "\n",
        "Pandas 一个强大的分析结构化数据的工具集，基础是 Numpy（提供高性能的矩阵运算）。\n",
        "\n",
        "Pandas 可以从各种文件格式比如 CSV、JSON、SQL、Microsoft Excel 导入数据。"
      ]
    },
    {
      "cell_type": "code",
      "execution_count": 2,
      "metadata": {
        "id": "HDFEIPKuM0Y2"
      },
      "outputs": [],
      "source": [
        "import numpy as np\n",
        "import pandas as pd"
      ]
    },
    {
      "cell_type": "code",
      "execution_count": 9,
      "metadata": {
        "id": "gwfZNBRfM0Y2"
      },
      "outputs": [],
      "source": [
        "# 这里用colab的话是要先上传一下数据集的，在/content/sample_data这个目录\n",
        "# df = pd.read_csv('sample_data/train_data_public.csv', encoding='utf-8',header=0)\n",
        "df = pd.read_csv('train_data_public.csv', encoding='utf-8',header=0)"
      ]
    },
    {
      "cell_type": "code",
      "execution_count": 11,
      "metadata": {
        "id": "21L7VVqVM0Y2",
        "outputId": "124538c0-7a18-4970-ebf4-eac28df3bfdc",
        "colab": {
          "base_uri": "https://localhost:8080/",
          "height": 206
        }
      },
      "outputs": [
        {
          "output_type": "execute_result",
          "data": {
            "text/plain": [
              "   id                                               text  \\\n",
              "0   0  交行14年用过，半年准备提额，却直接被降到1Ｋ，半年期间只T过一次三千，其它全部真实消费，第...   \n",
              "1   1                                单标我有了，最近visa双标返现活动好   \n",
              "2   2                                        建设银行提额很慢的……   \n",
              "3   3                 我的怎么显示0.25费率，而且不管分多少期都一样费率，可惜只有69k   \n",
              "4   4                                           利率不错，可以撸   \n",
              "\n",
              "                                            BIO_anno  class  \n",
              "0  B-BANK I-BANK O O O O O O O O O O B-COMMENTS_N...      0  \n",
              "1  B-PRODUCT I-PRODUCT O O O O O O B-PRODUCT I-PR...      1  \n",
              "2  B-BANK I-BANK I-BANK I-BANK B-COMMENTS_N I-COM...      0  \n",
              "3  O O O O O O O O O O B-COMMENTS_N I-COMMENTS_N ...      2  \n",
              "4  B-COMMENTS_N I-COMMENTS_N B-COMMENTS_ADJ I-COM...      1  "
            ],
            "text/html": [
              "\n",
              "  <div id=\"df-4514b828-be49-4c60-967f-0957d55518d0\">\n",
              "    <div class=\"colab-df-container\">\n",
              "      <div>\n",
              "<style scoped>\n",
              "    .dataframe tbody tr th:only-of-type {\n",
              "        vertical-align: middle;\n",
              "    }\n",
              "\n",
              "    .dataframe tbody tr th {\n",
              "        vertical-align: top;\n",
              "    }\n",
              "\n",
              "    .dataframe thead th {\n",
              "        text-align: right;\n",
              "    }\n",
              "</style>\n",
              "<table border=\"1\" class=\"dataframe\">\n",
              "  <thead>\n",
              "    <tr style=\"text-align: right;\">\n",
              "      <th></th>\n",
              "      <th>id</th>\n",
              "      <th>text</th>\n",
              "      <th>BIO_anno</th>\n",
              "      <th>class</th>\n",
              "    </tr>\n",
              "  </thead>\n",
              "  <tbody>\n",
              "    <tr>\n",
              "      <th>0</th>\n",
              "      <td>0</td>\n",
              "      <td>交行14年用过，半年准备提额，却直接被降到1Ｋ，半年期间只T过一次三千，其它全部真实消费，第...</td>\n",
              "      <td>B-BANK I-BANK O O O O O O O O O O B-COMMENTS_N...</td>\n",
              "      <td>0</td>\n",
              "    </tr>\n",
              "    <tr>\n",
              "      <th>1</th>\n",
              "      <td>1</td>\n",
              "      <td>单标我有了，最近visa双标返现活动好</td>\n",
              "      <td>B-PRODUCT I-PRODUCT O O O O O O B-PRODUCT I-PR...</td>\n",
              "      <td>1</td>\n",
              "    </tr>\n",
              "    <tr>\n",
              "      <th>2</th>\n",
              "      <td>2</td>\n",
              "      <td>建设银行提额很慢的……</td>\n",
              "      <td>B-BANK I-BANK I-BANK I-BANK B-COMMENTS_N I-COM...</td>\n",
              "      <td>0</td>\n",
              "    </tr>\n",
              "    <tr>\n",
              "      <th>3</th>\n",
              "      <td>3</td>\n",
              "      <td>我的怎么显示0.25费率，而且不管分多少期都一样费率，可惜只有69k</td>\n",
              "      <td>O O O O O O O O O O B-COMMENTS_N I-COMMENTS_N ...</td>\n",
              "      <td>2</td>\n",
              "    </tr>\n",
              "    <tr>\n",
              "      <th>4</th>\n",
              "      <td>4</td>\n",
              "      <td>利率不错，可以撸</td>\n",
              "      <td>B-COMMENTS_N I-COMMENTS_N B-COMMENTS_ADJ I-COM...</td>\n",
              "      <td>1</td>\n",
              "    </tr>\n",
              "  </tbody>\n",
              "</table>\n",
              "</div>\n",
              "      <button class=\"colab-df-convert\" onclick=\"convertToInteractive('df-4514b828-be49-4c60-967f-0957d55518d0')\"\n",
              "              title=\"Convert this dataframe to an interactive table.\"\n",
              "              style=\"display:none;\">\n",
              "        \n",
              "  <svg xmlns=\"http://www.w3.org/2000/svg\" height=\"24px\"viewBox=\"0 0 24 24\"\n",
              "       width=\"24px\">\n",
              "    <path d=\"M0 0h24v24H0V0z\" fill=\"none\"/>\n",
              "    <path d=\"M18.56 5.44l.94 2.06.94-2.06 2.06-.94-2.06-.94-.94-2.06-.94 2.06-2.06.94zm-11 1L8.5 8.5l.94-2.06 2.06-.94-2.06-.94L8.5 2.5l-.94 2.06-2.06.94zm10 10l.94 2.06.94-2.06 2.06-.94-2.06-.94-.94-2.06-.94 2.06-2.06.94z\"/><path d=\"M17.41 7.96l-1.37-1.37c-.4-.4-.92-.59-1.43-.59-.52 0-1.04.2-1.43.59L10.3 9.45l-7.72 7.72c-.78.78-.78 2.05 0 2.83L4 21.41c.39.39.9.59 1.41.59.51 0 1.02-.2 1.41-.59l7.78-7.78 2.81-2.81c.8-.78.8-2.07 0-2.86zM5.41 20L4 18.59l7.72-7.72 1.47 1.35L5.41 20z\"/>\n",
              "  </svg>\n",
              "      </button>\n",
              "      \n",
              "  <style>\n",
              "    .colab-df-container {\n",
              "      display:flex;\n",
              "      flex-wrap:wrap;\n",
              "      gap: 12px;\n",
              "    }\n",
              "\n",
              "    .colab-df-convert {\n",
              "      background-color: #E8F0FE;\n",
              "      border: none;\n",
              "      border-radius: 50%;\n",
              "      cursor: pointer;\n",
              "      display: none;\n",
              "      fill: #1967D2;\n",
              "      height: 32px;\n",
              "      padding: 0 0 0 0;\n",
              "      width: 32px;\n",
              "    }\n",
              "\n",
              "    .colab-df-convert:hover {\n",
              "      background-color: #E2EBFA;\n",
              "      box-shadow: 0px 1px 2px rgba(60, 64, 67, 0.3), 0px 1px 3px 1px rgba(60, 64, 67, 0.15);\n",
              "      fill: #174EA6;\n",
              "    }\n",
              "\n",
              "    [theme=dark] .colab-df-convert {\n",
              "      background-color: #3B4455;\n",
              "      fill: #D2E3FC;\n",
              "    }\n",
              "\n",
              "    [theme=dark] .colab-df-convert:hover {\n",
              "      background-color: #434B5C;\n",
              "      box-shadow: 0px 1px 3px 1px rgba(0, 0, 0, 0.15);\n",
              "      filter: drop-shadow(0px 1px 2px rgba(0, 0, 0, 0.3));\n",
              "      fill: #FFFFFF;\n",
              "    }\n",
              "  </style>\n",
              "\n",
              "      <script>\n",
              "        const buttonEl =\n",
              "          document.querySelector('#df-4514b828-be49-4c60-967f-0957d55518d0 button.colab-df-convert');\n",
              "        buttonEl.style.display =\n",
              "          google.colab.kernel.accessAllowed ? 'block' : 'none';\n",
              "\n",
              "        async function convertToInteractive(key) {\n",
              "          const element = document.querySelector('#df-4514b828-be49-4c60-967f-0957d55518d0');\n",
              "          const dataTable =\n",
              "            await google.colab.kernel.invokeFunction('convertToInteractive',\n",
              "                                                     [key], {});\n",
              "          if (!dataTable) return;\n",
              "\n",
              "          const docLinkHtml = 'Like what you see? Visit the ' +\n",
              "            '<a target=\"_blank\" href=https://colab.research.google.com/notebooks/data_table.ipynb>data table notebook</a>'\n",
              "            + ' to learn more about interactive tables.';\n",
              "          element.innerHTML = '';\n",
              "          dataTable['output_type'] = 'display_data';\n",
              "          await google.colab.output.renderOutput(dataTable, element);\n",
              "          const docLink = document.createElement('div');\n",
              "          docLink.innerHTML = docLinkHtml;\n",
              "          element.appendChild(docLink);\n",
              "        }\n",
              "      </script>\n",
              "    </div>\n",
              "  </div>\n",
              "  "
            ]
          },
          "metadata": {},
          "execution_count": 11
        }
      ],
      "source": [
        "df.head()"
      ]
    },
    {
      "cell_type": "code",
      "execution_count": 12,
      "metadata": {
        "id": "30xRV0f4M0Y2",
        "outputId": "bf2b93c5-41aa-4ecf-a73c-69d3b33804e6",
        "colab": {
          "base_uri": "https://localhost:8080/"
        }
      },
      "outputs": [
        {
          "output_type": "stream",
          "name": "stdout",
          "text": [
            "<class 'pandas.core.frame.DataFrame'> <class 'pandas.core.series.Series'>\n"
          ]
        }
      ],
      "source": [
        "print(type(df),type(df['text']))"
      ]
    },
    {
      "cell_type": "code",
      "execution_count": 13,
      "metadata": {
        "id": "SvAxduK8M0Y2"
      },
      "outputs": [],
      "source": [
        "df['append'] = pd.Series(['append']*(len(df)//2))\n",
        "# d = {'2':3}\n",
        "# d['3']=4"
      ]
    },
    {
      "cell_type": "code",
      "execution_count": 14,
      "metadata": {
        "id": "PGVpuok3M0Y2",
        "outputId": "55ffef7a-e6d2-4147-ac4e-48e15fd4f195",
        "colab": {
          "base_uri": "https://localhost:8080/",
          "height": 206
        }
      },
      "outputs": [
        {
          "output_type": "execute_result",
          "data": {
            "text/plain": [
              "   id                                               text  \\\n",
              "0   0  交行14年用过，半年准备提额，却直接被降到1Ｋ，半年期间只T过一次三千，其它全部真实消费，第...   \n",
              "1   1                                单标我有了，最近visa双标返现活动好   \n",
              "2   2                                        建设银行提额很慢的……   \n",
              "3   3                 我的怎么显示0.25费率，而且不管分多少期都一样费率，可惜只有69k   \n",
              "4   4                                           利率不错，可以撸   \n",
              "\n",
              "                                            BIO_anno  class  append  \n",
              "0  B-BANK I-BANK O O O O O O O O O O B-COMMENTS_N...      0  append  \n",
              "1  B-PRODUCT I-PRODUCT O O O O O O B-PRODUCT I-PR...      1  append  \n",
              "2  B-BANK I-BANK I-BANK I-BANK B-COMMENTS_N I-COM...      0  append  \n",
              "3  O O O O O O O O O O B-COMMENTS_N I-COMMENTS_N ...      2  append  \n",
              "4  B-COMMENTS_N I-COMMENTS_N B-COMMENTS_ADJ I-COM...      1  append  "
            ],
            "text/html": [
              "\n",
              "  <div id=\"df-5e803294-6f04-496a-950a-80b11823cfa9\">\n",
              "    <div class=\"colab-df-container\">\n",
              "      <div>\n",
              "<style scoped>\n",
              "    .dataframe tbody tr th:only-of-type {\n",
              "        vertical-align: middle;\n",
              "    }\n",
              "\n",
              "    .dataframe tbody tr th {\n",
              "        vertical-align: top;\n",
              "    }\n",
              "\n",
              "    .dataframe thead th {\n",
              "        text-align: right;\n",
              "    }\n",
              "</style>\n",
              "<table border=\"1\" class=\"dataframe\">\n",
              "  <thead>\n",
              "    <tr style=\"text-align: right;\">\n",
              "      <th></th>\n",
              "      <th>id</th>\n",
              "      <th>text</th>\n",
              "      <th>BIO_anno</th>\n",
              "      <th>class</th>\n",
              "      <th>append</th>\n",
              "    </tr>\n",
              "  </thead>\n",
              "  <tbody>\n",
              "    <tr>\n",
              "      <th>0</th>\n",
              "      <td>0</td>\n",
              "      <td>交行14年用过，半年准备提额，却直接被降到1Ｋ，半年期间只T过一次三千，其它全部真实消费，第...</td>\n",
              "      <td>B-BANK I-BANK O O O O O O O O O O B-COMMENTS_N...</td>\n",
              "      <td>0</td>\n",
              "      <td>append</td>\n",
              "    </tr>\n",
              "    <tr>\n",
              "      <th>1</th>\n",
              "      <td>1</td>\n",
              "      <td>单标我有了，最近visa双标返现活动好</td>\n",
              "      <td>B-PRODUCT I-PRODUCT O O O O O O B-PRODUCT I-PR...</td>\n",
              "      <td>1</td>\n",
              "      <td>append</td>\n",
              "    </tr>\n",
              "    <tr>\n",
              "      <th>2</th>\n",
              "      <td>2</td>\n",
              "      <td>建设银行提额很慢的……</td>\n",
              "      <td>B-BANK I-BANK I-BANK I-BANK B-COMMENTS_N I-COM...</td>\n",
              "      <td>0</td>\n",
              "      <td>append</td>\n",
              "    </tr>\n",
              "    <tr>\n",
              "      <th>3</th>\n",
              "      <td>3</td>\n",
              "      <td>我的怎么显示0.25费率，而且不管分多少期都一样费率，可惜只有69k</td>\n",
              "      <td>O O O O O O O O O O B-COMMENTS_N I-COMMENTS_N ...</td>\n",
              "      <td>2</td>\n",
              "      <td>append</td>\n",
              "    </tr>\n",
              "    <tr>\n",
              "      <th>4</th>\n",
              "      <td>4</td>\n",
              "      <td>利率不错，可以撸</td>\n",
              "      <td>B-COMMENTS_N I-COMMENTS_N B-COMMENTS_ADJ I-COM...</td>\n",
              "      <td>1</td>\n",
              "      <td>append</td>\n",
              "    </tr>\n",
              "  </tbody>\n",
              "</table>\n",
              "</div>\n",
              "      <button class=\"colab-df-convert\" onclick=\"convertToInteractive('df-5e803294-6f04-496a-950a-80b11823cfa9')\"\n",
              "              title=\"Convert this dataframe to an interactive table.\"\n",
              "              style=\"display:none;\">\n",
              "        \n",
              "  <svg xmlns=\"http://www.w3.org/2000/svg\" height=\"24px\"viewBox=\"0 0 24 24\"\n",
              "       width=\"24px\">\n",
              "    <path d=\"M0 0h24v24H0V0z\" fill=\"none\"/>\n",
              "    <path d=\"M18.56 5.44l.94 2.06.94-2.06 2.06-.94-2.06-.94-.94-2.06-.94 2.06-2.06.94zm-11 1L8.5 8.5l.94-2.06 2.06-.94-2.06-.94L8.5 2.5l-.94 2.06-2.06.94zm10 10l.94 2.06.94-2.06 2.06-.94-2.06-.94-.94-2.06-.94 2.06-2.06.94z\"/><path d=\"M17.41 7.96l-1.37-1.37c-.4-.4-.92-.59-1.43-.59-.52 0-1.04.2-1.43.59L10.3 9.45l-7.72 7.72c-.78.78-.78 2.05 0 2.83L4 21.41c.39.39.9.59 1.41.59.51 0 1.02-.2 1.41-.59l7.78-7.78 2.81-2.81c.8-.78.8-2.07 0-2.86zM5.41 20L4 18.59l7.72-7.72 1.47 1.35L5.41 20z\"/>\n",
              "  </svg>\n",
              "      </button>\n",
              "      \n",
              "  <style>\n",
              "    .colab-df-container {\n",
              "      display:flex;\n",
              "      flex-wrap:wrap;\n",
              "      gap: 12px;\n",
              "    }\n",
              "\n",
              "    .colab-df-convert {\n",
              "      background-color: #E8F0FE;\n",
              "      border: none;\n",
              "      border-radius: 50%;\n",
              "      cursor: pointer;\n",
              "      display: none;\n",
              "      fill: #1967D2;\n",
              "      height: 32px;\n",
              "      padding: 0 0 0 0;\n",
              "      width: 32px;\n",
              "    }\n",
              "\n",
              "    .colab-df-convert:hover {\n",
              "      background-color: #E2EBFA;\n",
              "      box-shadow: 0px 1px 2px rgba(60, 64, 67, 0.3), 0px 1px 3px 1px rgba(60, 64, 67, 0.15);\n",
              "      fill: #174EA6;\n",
              "    }\n",
              "\n",
              "    [theme=dark] .colab-df-convert {\n",
              "      background-color: #3B4455;\n",
              "      fill: #D2E3FC;\n",
              "    }\n",
              "\n",
              "    [theme=dark] .colab-df-convert:hover {\n",
              "      background-color: #434B5C;\n",
              "      box-shadow: 0px 1px 3px 1px rgba(0, 0, 0, 0.15);\n",
              "      filter: drop-shadow(0px 1px 2px rgba(0, 0, 0, 0.3));\n",
              "      fill: #FFFFFF;\n",
              "    }\n",
              "  </style>\n",
              "\n",
              "      <script>\n",
              "        const buttonEl =\n",
              "          document.querySelector('#df-5e803294-6f04-496a-950a-80b11823cfa9 button.colab-df-convert');\n",
              "        buttonEl.style.display =\n",
              "          google.colab.kernel.accessAllowed ? 'block' : 'none';\n",
              "\n",
              "        async function convertToInteractive(key) {\n",
              "          const element = document.querySelector('#df-5e803294-6f04-496a-950a-80b11823cfa9');\n",
              "          const dataTable =\n",
              "            await google.colab.kernel.invokeFunction('convertToInteractive',\n",
              "                                                     [key], {});\n",
              "          if (!dataTable) return;\n",
              "\n",
              "          const docLinkHtml = 'Like what you see? Visit the ' +\n",
              "            '<a target=\"_blank\" href=https://colab.research.google.com/notebooks/data_table.ipynb>data table notebook</a>'\n",
              "            + ' to learn more about interactive tables.';\n",
              "          element.innerHTML = '';\n",
              "          dataTable['output_type'] = 'display_data';\n",
              "          await google.colab.output.renderOutput(dataTable, element);\n",
              "          const docLink = document.createElement('div');\n",
              "          docLink.innerHTML = docLinkHtml;\n",
              "          element.appendChild(docLink);\n",
              "        }\n",
              "      </script>\n",
              "    </div>\n",
              "  </div>\n",
              "  "
            ]
          },
          "metadata": {},
          "execution_count": 14
        }
      ],
      "source": [
        "df.head()"
      ]
    },
    {
      "cell_type": "code",
      "execution_count": 15,
      "metadata": {
        "id": "D6OvyMqLM0Y3"
      },
      "outputs": [],
      "source": [
        "df = df.fillna('filled_text')"
      ]
    },
    {
      "cell_type": "markdown",
      "metadata": {
        "id": "WPQ_JS0RXkRc"
      },
      "source": [
        "# Filtering"
      ]
    },
    {
      "cell_type": "code",
      "execution_count": 16,
      "metadata": {
        "colab": {
          "base_uri": "https://localhost:8080/"
        },
        "id": "BG1IMeV_hrqV",
        "outputId": "9b4e697d-0285-4aac-a23e-a94f0433b994"
      },
      "outputs": [
        {
          "output_type": "execute_result",
          "data": {
            "text/plain": [
              "0    B-BANK I-BANK O O O O O O O O O O B-COMMENTS_N...\n",
              "1    B-PRODUCT I-PRODUCT O O O O O O B-PRODUCT I-PR...\n",
              "2    B-BANK I-BANK I-BANK I-BANK B-COMMENTS_N I-COM...\n",
              "3    O O O O O O O O O O B-COMMENTS_N I-COMMENTS_N ...\n",
              "4    B-COMMENTS_N I-COMMENTS_N B-COMMENTS_ADJ I-COM...\n",
              "Name: BIO_anno, dtype: object"
            ]
          },
          "metadata": {},
          "execution_count": 16
        }
      ],
      "source": [
        "# Selecting data by feature\n",
        "df['BIO_anno'].head()\n",
        "# print(type())"
      ]
    },
    {
      "cell_type": "code",
      "execution_count": 17,
      "metadata": {
        "colab": {
          "base_uri": "https://localhost:8080/",
          "height": 206
        },
        "id": "wPrRGLDtiZSp",
        "outputId": "499e7b7e-b520-416d-edf5-1772e54fe565"
      },
      "outputs": [
        {
          "output_type": "execute_result",
          "data": {
            "text/plain": [
              "    id                                               text  \\\n",
              "0    0  交行14年用过，半年准备提额，却直接被降到1Ｋ，半年期间只T过一次三千，其它全部真实消费，第...   \n",
              "2    2                                        建设银行提额很慢的……   \n",
              "7    7  羡慕，可能上个月申请多了。上月连续下了浦发广发华夏交通。这个月申请建行，农业??邮储各种秒拒...   \n",
              "8    8  这个短债只是用来提升信誉刷建行预审批的，又不是什么赚钱的基金。也只有建行有卖，我买过，不但不...   \n",
              "10  10  这几天也接到了建行的分期电话，让我1.6分12期，跟他说5000，3期，意思意思。快两年了还...   \n",
              "\n",
              "                                             BIO_anno  class  append  \n",
              "0   B-BANK I-BANK O O O O O O O O O O B-COMMENTS_N...      0  append  \n",
              "2   B-BANK I-BANK I-BANK I-BANK B-COMMENTS_N I-COM...      0  append  \n",
              "7   O O O O O O O O O O O O O O O O O O O B-BANK I...      0  append  \n",
              "8   O O B-PRODUCT I-PRODUCT O O O O B-COMMENTS_ADJ...      0  append  \n",
              "10  O O O O O O O B-BANK I-BANK O B-PRODUCT I-PROD...      0  append  "
            ],
            "text/html": [
              "\n",
              "  <div id=\"df-d426c049-0e42-4077-9adc-3ac142834652\">\n",
              "    <div class=\"colab-df-container\">\n",
              "      <div>\n",
              "<style scoped>\n",
              "    .dataframe tbody tr th:only-of-type {\n",
              "        vertical-align: middle;\n",
              "    }\n",
              "\n",
              "    .dataframe tbody tr th {\n",
              "        vertical-align: top;\n",
              "    }\n",
              "\n",
              "    .dataframe thead th {\n",
              "        text-align: right;\n",
              "    }\n",
              "</style>\n",
              "<table border=\"1\" class=\"dataframe\">\n",
              "  <thead>\n",
              "    <tr style=\"text-align: right;\">\n",
              "      <th></th>\n",
              "      <th>id</th>\n",
              "      <th>text</th>\n",
              "      <th>BIO_anno</th>\n",
              "      <th>class</th>\n",
              "      <th>append</th>\n",
              "    </tr>\n",
              "  </thead>\n",
              "  <tbody>\n",
              "    <tr>\n",
              "      <th>0</th>\n",
              "      <td>0</td>\n",
              "      <td>交行14年用过，半年准备提额，却直接被降到1Ｋ，半年期间只T过一次三千，其它全部真实消费，第...</td>\n",
              "      <td>B-BANK I-BANK O O O O O O O O O O B-COMMENTS_N...</td>\n",
              "      <td>0</td>\n",
              "      <td>append</td>\n",
              "    </tr>\n",
              "    <tr>\n",
              "      <th>2</th>\n",
              "      <td>2</td>\n",
              "      <td>建设银行提额很慢的……</td>\n",
              "      <td>B-BANK I-BANK I-BANK I-BANK B-COMMENTS_N I-COM...</td>\n",
              "      <td>0</td>\n",
              "      <td>append</td>\n",
              "    </tr>\n",
              "    <tr>\n",
              "      <th>7</th>\n",
              "      <td>7</td>\n",
              "      <td>羡慕，可能上个月申请多了。上月连续下了浦发广发华夏交通。这个月申请建行，农业??邮储各种秒拒...</td>\n",
              "      <td>O O O O O O O O O O O O O O O O O O O B-BANK I...</td>\n",
              "      <td>0</td>\n",
              "      <td>append</td>\n",
              "    </tr>\n",
              "    <tr>\n",
              "      <th>8</th>\n",
              "      <td>8</td>\n",
              "      <td>这个短债只是用来提升信誉刷建行预审批的，又不是什么赚钱的基金。也只有建行有卖，我买过，不但不...</td>\n",
              "      <td>O O B-PRODUCT I-PRODUCT O O O O B-COMMENTS_ADJ...</td>\n",
              "      <td>0</td>\n",
              "      <td>append</td>\n",
              "    </tr>\n",
              "    <tr>\n",
              "      <th>10</th>\n",
              "      <td>10</td>\n",
              "      <td>这几天也接到了建行的分期电话，让我1.6分12期，跟他说5000，3期，意思意思。快两年了还...</td>\n",
              "      <td>O O O O O O O B-BANK I-BANK O B-PRODUCT I-PROD...</td>\n",
              "      <td>0</td>\n",
              "      <td>append</td>\n",
              "    </tr>\n",
              "  </tbody>\n",
              "</table>\n",
              "</div>\n",
              "      <button class=\"colab-df-convert\" onclick=\"convertToInteractive('df-d426c049-0e42-4077-9adc-3ac142834652')\"\n",
              "              title=\"Convert this dataframe to an interactive table.\"\n",
              "              style=\"display:none;\">\n",
              "        \n",
              "  <svg xmlns=\"http://www.w3.org/2000/svg\" height=\"24px\"viewBox=\"0 0 24 24\"\n",
              "       width=\"24px\">\n",
              "    <path d=\"M0 0h24v24H0V0z\" fill=\"none\"/>\n",
              "    <path d=\"M18.56 5.44l.94 2.06.94-2.06 2.06-.94-2.06-.94-.94-2.06-.94 2.06-2.06.94zm-11 1L8.5 8.5l.94-2.06 2.06-.94-2.06-.94L8.5 2.5l-.94 2.06-2.06.94zm10 10l.94 2.06.94-2.06 2.06-.94-2.06-.94-.94-2.06-.94 2.06-2.06.94z\"/><path d=\"M17.41 7.96l-1.37-1.37c-.4-.4-.92-.59-1.43-.59-.52 0-1.04.2-1.43.59L10.3 9.45l-7.72 7.72c-.78.78-.78 2.05 0 2.83L4 21.41c.39.39.9.59 1.41.59.51 0 1.02-.2 1.41-.59l7.78-7.78 2.81-2.81c.8-.78.8-2.07 0-2.86zM5.41 20L4 18.59l7.72-7.72 1.47 1.35L5.41 20z\"/>\n",
              "  </svg>\n",
              "      </button>\n",
              "      \n",
              "  <style>\n",
              "    .colab-df-container {\n",
              "      display:flex;\n",
              "      flex-wrap:wrap;\n",
              "      gap: 12px;\n",
              "    }\n",
              "\n",
              "    .colab-df-convert {\n",
              "      background-color: #E8F0FE;\n",
              "      border: none;\n",
              "      border-radius: 50%;\n",
              "      cursor: pointer;\n",
              "      display: none;\n",
              "      fill: #1967D2;\n",
              "      height: 32px;\n",
              "      padding: 0 0 0 0;\n",
              "      width: 32px;\n",
              "    }\n",
              "\n",
              "    .colab-df-convert:hover {\n",
              "      background-color: #E2EBFA;\n",
              "      box-shadow: 0px 1px 2px rgba(60, 64, 67, 0.3), 0px 1px 3px 1px rgba(60, 64, 67, 0.15);\n",
              "      fill: #174EA6;\n",
              "    }\n",
              "\n",
              "    [theme=dark] .colab-df-convert {\n",
              "      background-color: #3B4455;\n",
              "      fill: #D2E3FC;\n",
              "    }\n",
              "\n",
              "    [theme=dark] .colab-df-convert:hover {\n",
              "      background-color: #434B5C;\n",
              "      box-shadow: 0px 1px 3px 1px rgba(0, 0, 0, 0.15);\n",
              "      filter: drop-shadow(0px 1px 2px rgba(0, 0, 0, 0.3));\n",
              "      fill: #FFFFFF;\n",
              "    }\n",
              "  </style>\n",
              "\n",
              "      <script>\n",
              "        const buttonEl =\n",
              "          document.querySelector('#df-d426c049-0e42-4077-9adc-3ac142834652 button.colab-df-convert');\n",
              "        buttonEl.style.display =\n",
              "          google.colab.kernel.accessAllowed ? 'block' : 'none';\n",
              "\n",
              "        async function convertToInteractive(key) {\n",
              "          const element = document.querySelector('#df-d426c049-0e42-4077-9adc-3ac142834652');\n",
              "          const dataTable =\n",
              "            await google.colab.kernel.invokeFunction('convertToInteractive',\n",
              "                                                     [key], {});\n",
              "          if (!dataTable) return;\n",
              "\n",
              "          const docLinkHtml = 'Like what you see? Visit the ' +\n",
              "            '<a target=\"_blank\" href=https://colab.research.google.com/notebooks/data_table.ipynb>data table notebook</a>'\n",
              "            + ' to learn more about interactive tables.';\n",
              "          element.innerHTML = '';\n",
              "          dataTable['output_type'] = 'display_data';\n",
              "          await google.colab.output.renderOutput(dataTable, element);\n",
              "          const docLink = document.createElement('div');\n",
              "          docLink.innerHTML = docLinkHtml;\n",
              "          element.appendChild(docLink);\n",
              "        }\n",
              "      </script>\n",
              "    </div>\n",
              "  </div>\n",
              "  "
            ]
          },
          "metadata": {},
          "execution_count": 17
        }
      ],
      "source": [
        "# Filtering\n",
        "df[ df['class']==0 ].head() # only the neural data extracted"
      ]
    },
    {
      "cell_type": "code",
      "execution_count": 18,
      "metadata": {
        "id": "6A2RHpt0M0Y4",
        "outputId": "c6f3a359-c9f9-4c7f-9b10-7d6284a58b07",
        "colab": {
          "base_uri": "https://localhost:8080/",
          "height": 206
        }
      },
      "outputs": [
        {
          "output_type": "execute_result",
          "data": {
            "text/plain": [
              "        id                                               text  \\\n",
              "3764  3764                                   我没U盾可以加新卡啊，验证码就行   \n",
              "3765  3765                    啊，这段时间说我名下没有可手动调额的卡。就是因为这个没有U盾？   \n",
              "3766  3766                                   工行农行招行盾在手??其他没得了   \n",
              "3767  3767  就是柜员或网点的个人行为吧；我要盾没用，去办卡说盾就给了，也没要钱，我同事密码器已不够用了，...   \n",
              "3768  3768         一个月转转限额100万，去补个盾还没有，真是店大欺客，废了以后改用招商方便，服务也好   \n",
              "\n",
              "                                               BIO_anno  class       append  \n",
              "3764    O O B-PRODUCT I-PRODUCT O O O O O O O O O O O O      2  filled_text  \n",
              "3765  O O O O O O O O O O O O O O O O O O O O O O O ...      2  filled_text  \n",
              "3766  B-BANK I-BANK B-BANK I-BANK B-BANK I-BANK B-PR...      2  filled_text  \n",
              "3767  O O O O O O O O O O O O O O O O O O O O O O O ...      2  filled_text  \n",
              "3768  O O O O O O O O O O O O O O O O O O O O B-COMM...      0  filled_text  "
            ],
            "text/html": [
              "\n",
              "  <div id=\"df-5698aae0-1106-4cea-9f81-e2a4f6e18f14\">\n",
              "    <div class=\"colab-df-container\">\n",
              "      <div>\n",
              "<style scoped>\n",
              "    .dataframe tbody tr th:only-of-type {\n",
              "        vertical-align: middle;\n",
              "    }\n",
              "\n",
              "    .dataframe tbody tr th {\n",
              "        vertical-align: top;\n",
              "    }\n",
              "\n",
              "    .dataframe thead th {\n",
              "        text-align: right;\n",
              "    }\n",
              "</style>\n",
              "<table border=\"1\" class=\"dataframe\">\n",
              "  <thead>\n",
              "    <tr style=\"text-align: right;\">\n",
              "      <th></th>\n",
              "      <th>id</th>\n",
              "      <th>text</th>\n",
              "      <th>BIO_anno</th>\n",
              "      <th>class</th>\n",
              "      <th>append</th>\n",
              "    </tr>\n",
              "  </thead>\n",
              "  <tbody>\n",
              "    <tr>\n",
              "      <th>3764</th>\n",
              "      <td>3764</td>\n",
              "      <td>我没U盾可以加新卡啊，验证码就行</td>\n",
              "      <td>O O B-PRODUCT I-PRODUCT O O O O O O O O O O O O</td>\n",
              "      <td>2</td>\n",
              "      <td>filled_text</td>\n",
              "    </tr>\n",
              "    <tr>\n",
              "      <th>3765</th>\n",
              "      <td>3765</td>\n",
              "      <td>啊，这段时间说我名下没有可手动调额的卡。就是因为这个没有U盾？</td>\n",
              "      <td>O O O O O O O O O O O O O O O O O O O O O O O ...</td>\n",
              "      <td>2</td>\n",
              "      <td>filled_text</td>\n",
              "    </tr>\n",
              "    <tr>\n",
              "      <th>3766</th>\n",
              "      <td>3766</td>\n",
              "      <td>工行农行招行盾在手??其他没得了</td>\n",
              "      <td>B-BANK I-BANK B-BANK I-BANK B-BANK I-BANK B-PR...</td>\n",
              "      <td>2</td>\n",
              "      <td>filled_text</td>\n",
              "    </tr>\n",
              "    <tr>\n",
              "      <th>3767</th>\n",
              "      <td>3767</td>\n",
              "      <td>就是柜员或网点的个人行为吧；我要盾没用，去办卡说盾就给了，也没要钱，我同事密码器已不够用了，...</td>\n",
              "      <td>O O O O O O O O O O O O O O O O O O O O O O O ...</td>\n",
              "      <td>2</td>\n",
              "      <td>filled_text</td>\n",
              "    </tr>\n",
              "    <tr>\n",
              "      <th>3768</th>\n",
              "      <td>3768</td>\n",
              "      <td>一个月转转限额100万，去补个盾还没有，真是店大欺客，废了以后改用招商方便，服务也好</td>\n",
              "      <td>O O O O O O O O O O O O O O O O O O O O B-COMM...</td>\n",
              "      <td>0</td>\n",
              "      <td>filled_text</td>\n",
              "    </tr>\n",
              "  </tbody>\n",
              "</table>\n",
              "</div>\n",
              "      <button class=\"colab-df-convert\" onclick=\"convertToInteractive('df-5698aae0-1106-4cea-9f81-e2a4f6e18f14')\"\n",
              "              title=\"Convert this dataframe to an interactive table.\"\n",
              "              style=\"display:none;\">\n",
              "        \n",
              "  <svg xmlns=\"http://www.w3.org/2000/svg\" height=\"24px\"viewBox=\"0 0 24 24\"\n",
              "       width=\"24px\">\n",
              "    <path d=\"M0 0h24v24H0V0z\" fill=\"none\"/>\n",
              "    <path d=\"M18.56 5.44l.94 2.06.94-2.06 2.06-.94-2.06-.94-.94-2.06-.94 2.06-2.06.94zm-11 1L8.5 8.5l.94-2.06 2.06-.94-2.06-.94L8.5 2.5l-.94 2.06-2.06.94zm10 10l.94 2.06.94-2.06 2.06-.94-2.06-.94-.94-2.06-.94 2.06-2.06.94z\"/><path d=\"M17.41 7.96l-1.37-1.37c-.4-.4-.92-.59-1.43-.59-.52 0-1.04.2-1.43.59L10.3 9.45l-7.72 7.72c-.78.78-.78 2.05 0 2.83L4 21.41c.39.39.9.59 1.41.59.51 0 1.02-.2 1.41-.59l7.78-7.78 2.81-2.81c.8-.78.8-2.07 0-2.86zM5.41 20L4 18.59l7.72-7.72 1.47 1.35L5.41 20z\"/>\n",
              "  </svg>\n",
              "      </button>\n",
              "      \n",
              "  <style>\n",
              "    .colab-df-container {\n",
              "      display:flex;\n",
              "      flex-wrap:wrap;\n",
              "      gap: 12px;\n",
              "    }\n",
              "\n",
              "    .colab-df-convert {\n",
              "      background-color: #E8F0FE;\n",
              "      border: none;\n",
              "      border-radius: 50%;\n",
              "      cursor: pointer;\n",
              "      display: none;\n",
              "      fill: #1967D2;\n",
              "      height: 32px;\n",
              "      padding: 0 0 0 0;\n",
              "      width: 32px;\n",
              "    }\n",
              "\n",
              "    .colab-df-convert:hover {\n",
              "      background-color: #E2EBFA;\n",
              "      box-shadow: 0px 1px 2px rgba(60, 64, 67, 0.3), 0px 1px 3px 1px rgba(60, 64, 67, 0.15);\n",
              "      fill: #174EA6;\n",
              "    }\n",
              "\n",
              "    [theme=dark] .colab-df-convert {\n",
              "      background-color: #3B4455;\n",
              "      fill: #D2E3FC;\n",
              "    }\n",
              "\n",
              "    [theme=dark] .colab-df-convert:hover {\n",
              "      background-color: #434B5C;\n",
              "      box-shadow: 0px 1px 3px 1px rgba(0, 0, 0, 0.15);\n",
              "      filter: drop-shadow(0px 1px 2px rgba(0, 0, 0, 0.3));\n",
              "      fill: #FFFFFF;\n",
              "    }\n",
              "  </style>\n",
              "\n",
              "      <script>\n",
              "        const buttonEl =\n",
              "          document.querySelector('#df-5698aae0-1106-4cea-9f81-e2a4f6e18f14 button.colab-df-convert');\n",
              "        buttonEl.style.display =\n",
              "          google.colab.kernel.accessAllowed ? 'block' : 'none';\n",
              "\n",
              "        async function convertToInteractive(key) {\n",
              "          const element = document.querySelector('#df-5698aae0-1106-4cea-9f81-e2a4f6e18f14');\n",
              "          const dataTable =\n",
              "            await google.colab.kernel.invokeFunction('convertToInteractive',\n",
              "                                                     [key], {});\n",
              "          if (!dataTable) return;\n",
              "\n",
              "          const docLinkHtml = 'Like what you see? Visit the ' +\n",
              "            '<a target=\"_blank\" href=https://colab.research.google.com/notebooks/data_table.ipynb>data table notebook</a>'\n",
              "            + ' to learn more about interactive tables.';\n",
              "          element.innerHTML = '';\n",
              "          dataTable['output_type'] = 'display_data';\n",
              "          await google.colab.output.renderOutput(dataTable, element);\n",
              "          const docLink = document.createElement('div');\n",
              "          docLink.innerHTML = docLinkHtml;\n",
              "          element.appendChild(docLink);\n",
              "        }\n",
              "      </script>\n",
              "    </div>\n",
              "  </div>\n",
              "  "
            ]
          },
          "metadata": {},
          "execution_count": 18
        }
      ],
      "source": [
        "df[ df['append'] != 'append' ].head()"
      ]
    },
    {
      "cell_type": "markdown",
      "metadata": {
        "id": "N_rwgfrFGTne"
      },
      "source": [
        "# Save data"
      ]
    },
    {
      "cell_type": "code",
      "execution_count": 19,
      "metadata": {
        "id": "rNNxA7Vrp2fC"
      },
      "outputs": [],
      "source": [
        "# Saving dataframe to CSV\n",
        "#,\n",
        "# 这里要用ide打开csv文件，如果用wps显示不出来\n",
        "df.to_csv('preprocessed_train.csv', sep=\",\",index=False)"
      ]
    }
  ],
  "metadata": {
    "interpreter": {
      "hash": "a688c3ef212c52645c9ff656b5594f99ee04b2b95fea6280897edfaa3b2dd7a5"
    },
    "kernelspec": {
      "display_name": "pytorch",
      "language": "python",
      "name": "python3"
    },
    "language_info": {
      "codemirror_mode": {
        "name": "ipython",
        "version": 3
      },
      "file_extension": ".py",
      "mimetype": "text/x-python",
      "name": "python",
      "nbconvert_exporter": "python",
      "pygments_lexer": "ipython3",
      "version": "3.8.5"
    },
    "colab": {
      "name": "1.0 python_fund.ipynb",
      "provenance": [],
      "collapsed_sections": [
        "OeoXu5sSM0Yv"
      ],
      "include_colab_link": true
    }
  },
  "nbformat": 4,
  "nbformat_minor": 0
}