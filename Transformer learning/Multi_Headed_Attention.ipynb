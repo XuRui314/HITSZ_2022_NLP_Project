{
  "nbformat": 4,
  "nbformat_minor": 0,
  "metadata": {
    "colab": {
      "name": "Multi-Headed Attention.ipynb",
      "provenance": [],
      "authorship_tag": "ABX9TyP8e3P01CK/oLmW28Y23mvZ",
      "include_colab_link": true
    },
    "kernelspec": {
      "name": "python3",
      "display_name": "Python 3"
    },
    "language_info": {
      "name": "python"
    }
  },
  "cells": [
    {
      "cell_type": "markdown",
      "metadata": {
        "id": "view-in-github",
        "colab_type": "text"
      },
      "source": [
        "<a href=\"https://colab.research.google.com/github/XuRui314/HITSZ_2022_NLP_Project/blob/main/Transformer%20learning/Multi_Headed_Attention.ipynb\" target=\"_parent\"><img src=\"https://colab.research.google.com/assets/colab-badge.svg\" alt=\"Open In Colab\"/></a>"
      ]
    },
    {
      "cell_type": "code",
      "source": [
        "pip install labml-nn"
      ],
      "metadata": {
        "colab": {
          "base_uri": "https://localhost:8080/"
        },
        "id": "1H2eXYowQhdV",
        "outputId": "0ef3b3ee-25b5-45cb-ba6e-251041ce33ac"
      },
      "execution_count": 5,
      "outputs": [
        {
          "output_type": "stream",
          "name": "stdout",
          "text": [
            "Collecting labml-nn\n",
            "  Downloading labml_nn-0.4.120-py3-none-any.whl (340 kB)\n",
            "\u001b[K     |████████████████████████████████| 340 kB 5.2 MB/s \n",
            "\u001b[?25hRequirement already satisfied: torchtext in /usr/local/lib/python3.7/dist-packages (from labml-nn) (0.12.0)\n",
            "Requirement already satisfied: numpy in /usr/local/lib/python3.7/dist-packages (from labml-nn) (1.21.6)\n",
            "Requirement already satisfied: torchvision in /usr/local/lib/python3.7/dist-packages (from labml-nn) (0.12.0+cu113)\n",
            "Collecting labml>=0.4.147\n",
            "  Downloading labml-0.4.147-py3-none-any.whl (126 kB)\n",
            "\u001b[K     |████████████████████████████████| 126 kB 51.0 MB/s \n",
            "\u001b[?25hRequirement already satisfied: torch in /usr/local/lib/python3.7/dist-packages (from labml-nn) (1.11.0+cu113)\n",
            "Collecting einops\n",
            "  Downloading einops-0.4.1-py3-none-any.whl (28 kB)\n",
            "Collecting labml-helpers>=0.4.84\n",
            "  Downloading labml_helpers-0.4.84-py3-none-any.whl (18 kB)\n",
            "Collecting gitpython\n",
            "  Downloading GitPython-3.1.27-py3-none-any.whl (181 kB)\n",
            "\u001b[K     |████████████████████████████████| 181 kB 68.3 MB/s \n",
            "\u001b[?25hRequirement already satisfied: pyyaml in /usr/local/lib/python3.7/dist-packages (from labml>=0.4.147->labml-nn) (3.13)\n",
            "Requirement already satisfied: typing-extensions>=3.7.4.3 in /usr/local/lib/python3.7/dist-packages (from gitpython->labml>=0.4.147->labml-nn) (4.2.0)\n",
            "Collecting gitdb<5,>=4.0.1\n",
            "  Downloading gitdb-4.0.9-py3-none-any.whl (63 kB)\n",
            "\u001b[K     |████████████████████████████████| 63 kB 1.5 MB/s \n",
            "\u001b[?25hCollecting smmap<6,>=3.0.1\n",
            "  Downloading smmap-5.0.0-py3-none-any.whl (24 kB)\n",
            "Requirement already satisfied: tqdm in /usr/local/lib/python3.7/dist-packages (from torchtext->labml-nn) (4.64.0)\n",
            "Requirement already satisfied: requests in /usr/local/lib/python3.7/dist-packages (from torchtext->labml-nn) (2.23.0)\n",
            "Requirement already satisfied: chardet<4,>=3.0.2 in /usr/local/lib/python3.7/dist-packages (from requests->torchtext->labml-nn) (3.0.4)\n",
            "Requirement already satisfied: urllib3!=1.25.0,!=1.25.1,<1.26,>=1.21.1 in /usr/local/lib/python3.7/dist-packages (from requests->torchtext->labml-nn) (1.24.3)\n",
            "Requirement already satisfied: certifi>=2017.4.17 in /usr/local/lib/python3.7/dist-packages (from requests->torchtext->labml-nn) (2021.10.8)\n",
            "Requirement already satisfied: idna<3,>=2.5 in /usr/local/lib/python3.7/dist-packages (from requests->torchtext->labml-nn) (2.10)\n",
            "Requirement already satisfied: pillow!=8.3.*,>=5.3.0 in /usr/local/lib/python3.7/dist-packages (from torchvision->labml-nn) (7.1.2)\n",
            "Installing collected packages: smmap, gitdb, gitpython, labml, labml-helpers, einops, labml-nn\n",
            "Successfully installed einops-0.4.1 gitdb-4.0.9 gitpython-3.1.27 labml-0.4.147 labml-helpers-0.4.84 labml-nn-0.4.120 smmap-5.0.0\n"
          ]
        }
      ]
    },
    {
      "cell_type": "code",
      "execution_count": 7,
      "metadata": {
        "id": "4Mp1ZrKwP9__"
      },
      "outputs": [],
      "source": [
        "import math\n",
        "from typing import Optional, List\n",
        "\n",
        "import torch\n",
        "from torch import nn as nn\n",
        "\n",
        "from labml import tracker\n",
        "from labml_helpers.module import Module"
      ]
    },
    {
      "cell_type": "code",
      "source": [
        "class PrepareForMultiHeadAttention(Module):\n",
        "  def _init_(self, d_model:int, heads:int, d_k:int, bias:bool):\n",
        "    super()._init_()\n",
        "\n",
        "    self.linear = nn.Linear(d_model, heads * d_k, bias = bias)\n",
        "    self.heads = heads\n",
        "    self.d_k = d_k\n",
        "\n",
        "  def forward(self, x: torch.Tensor):\n",
        "    "
      ],
      "metadata": {
        "id": "EBWwKg-gQ6Aw"
      },
      "execution_count": null,
      "outputs": []
    }
  ]
}